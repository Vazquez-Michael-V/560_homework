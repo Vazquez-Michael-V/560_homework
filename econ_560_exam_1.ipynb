{
 "cells": [
  {
   "cell_type": "markdown",
   "id": "3e05d472",
   "metadata": {},
   "source": [
    "# Imports."
   ]
  },
  {
   "cell_type": "code",
   "execution_count": 1,
   "id": "fe1ba1d0",
   "metadata": {},
   "outputs": [],
   "source": [
    "import pandas as pd\n",
    "import numpy as np\n",
    "\n",
    "import secrets\n",
    "\n",
    "import plotly.graph_objects as go\n",
    "import plotly.io as pio\n",
    "\n",
    "import matplotlib.pyplot as plt\n",
    "\n",
    "from scipy.optimize import newton\n",
    "\n",
    "import os\n",
    "\n",
    "from IPython import get_ipython\n",
    "from IPython.display import Image, display\n",
    "\n",
    "\n",
    "from comp_econ import comp_econ as ce"
   ]
  },
  {
   "cell_type": "markdown",
   "id": "cf8bb71c",
   "metadata": {},
   "source": [
    "# Problem 1."
   ]
  },
  {
   "cell_type": "markdown",
   "id": "1688e51c",
   "metadata": {},
   "source": [
    "## 1a. Define a function to calculate y using a for loop."
   ]
  },
  {
   "cell_type": "code",
   "execution_count": 2,
   "id": "da8427b8",
   "metadata": {},
   "outputs": [],
   "source": [
    "def y_by_loop(_alpha: np.ndarray, _sigma: np.ndarray, _x: np.ndarray, _p: np.ndarray) -> tuple:\n",
    "    \n",
    "    r\"\"\"\n",
    "    Per the problem instructions, all inputs are supposed to be drawn from a random uniform distribution,\n",
    "    and all input ndarrays must have same length.\n",
    "\n",
    "    Parameters\n",
    "    ----------\n",
    "    _alpha : np.ndarray\n",
    "        ndarray of scalars drawn from random uniform distribution.\n",
    "    _sigma : np.ndarray\n",
    "        ndarray of scalars drawn from random uniform distribution.\n",
    "    _x : np.ndarray\n",
    "        ndarray of scalars drawn from random uniform distribution.\n",
    "    _p : np.ndarray\n",
    "        ndarray of scalars drawn from random uniform distribution.\n",
    "\n",
    "    Returns\n",
    "    -------\n",
    "    3-tuple\n",
    "        A float y_ that is the sum of all y_i's multiplied by (1/ N), where y_i = p_i * alpha_i * (x_i ** sigma_i).\n",
    "\n",
    "        An integer N_, the length each of the input ndarrays.\n",
    "\n",
    "        A float loop_duration_seconds_ that is the number of seconds the function took to run.\n",
    "    \"\"\"\n",
    "\n",
    "    # We are told every input ndarray is of length N, but we are not told to have N as an input parameter.\n",
    "    assert _alpha.shape == _sigma.shape == _x.shape == _p.shape, \"All input ndarray must have same length.\"\n",
    "    # Since all input ndarrays are of same length, pick N = _alpha.shape[0].\n",
    "    N_ = _alpha.shape[0]\n",
    "\n",
    "    # Per the instructions, run the calculation in a loop.\n",
    "    y_results_list = []\n",
    "    loop_start_ts = pd.Timestamp.now()\n",
    "    for i in range(0, N_):\n",
    "        # rng.uniform(...) returns an array of arrays. Using .flatten() here results in a float being\n",
    "        # returned instead of an ndarray.\n",
    "        y_i = _p.flatten()[i] * _alpha.flatten()[i] * (_x.flatten()[i] ** _sigma.flatten()[i])\n",
    "        y_results_list.append(y_i)\n",
    "    loop_completion_ts = pd.Timestamp.now()\n",
    "\n",
    "    loop_duration_seconds_ = (loop_completion_ts - loop_start_ts).total_seconds()\n",
    "\n",
    "    # (1 / N) multiplied by the sum of all y_i's.\n",
    "    y_ = (1 / N_) * sum(y_results_list)\n",
    "    y_ = np.round(y_, 4)\n",
    "\n",
    "\n",
    "\n",
    "    print(f\"Successfully calculated y using a for loop, then rounded to 4 digits:\\n{y_}\")\n",
    "    print(f\"Calculation in a loop took {loop_duration_seconds_} seconds.\")\n",
    "\n",
    "    return y_, N_, loop_duration_seconds_\n"
   ]
  },
  {
   "cell_type": "markdown",
   "id": "32a6e82a",
   "metadata": {},
   "source": [
    "## 1b. Draw from random uniform distribution using seeds for reproducible results, then compute y using y_by_loop(...)."
   ]
  },
  {
   "cell_type": "code",
   "execution_count": 3,
   "id": "e70cba9a",
   "metadata": {},
   "outputs": [
    {
     "name": "stdout",
     "output_type": "stream",
     "text": [
      "seed_alpha: 198409423911758088756066394694743907493\n",
      "seed_sigma: 165262868064524358924249828237088218306\n",
      "seed_x: 2869091941141843999134354628078620604\n",
      "seed_p: 267647076215612886856030341888731180972\n",
      "Performing 4 draws of length 10000 from random uniform distribution.\n",
      "Successfully calculated y using a for loop, then rounded to 4 digits:\n",
      "0.1719\n",
      "Calculation in a loop took 0.117429 seconds.\n"
     ]
    }
   ],
   "source": [
    "num_draws = int(1e4)\n",
    "# num_draws = 2\n",
    "\n",
    "# Assign seeds for reproducible results.\n",
    "seed_alpha = secrets.randbits(128)\n",
    "print(f\"seed_alpha: {seed_alpha}\")\n",
    "\n",
    "seed_sigma = secrets.randbits(128) \n",
    "print(f\"seed_sigma: {seed_sigma}\")\n",
    "\n",
    "seed_x = secrets.randbits(128)\n",
    "print(f\"seed_x: {seed_x}\")\n",
    "\n",
    "seed_p = secrets.randbits(128)\n",
    "print(f\"seed_p: {seed_p}\")\n",
    "\n",
    "print(f\"Performing 4 draws of length {num_draws} from random uniform distribution.\")\n",
    "# rng = np.random.default_rng()\n",
    "# Numpy docs for seeds of random numbers.\n",
    "# https://numpy.org/doc/2.3/reference/random/index.html#random-quick-start\n",
    "arr_alpha = np.random.default_rng(seed_alpha).uniform(size=(num_draws, 1))\n",
    "arr_sigma = np.random.default_rng(seed_sigma).uniform(size=(num_draws, 1))\n",
    "arr_x = np.random.default_rng(seed_x).uniform(size=(num_draws, 1))\n",
    "arr_p = np.random.default_rng(seed_p).uniform(size=(num_draws, 1))\n",
    "\n",
    "y_1, N, loop_duration_seconds = y_by_loop(_alpha=arr_alpha, _sigma=arr_sigma, _x=arr_x, _p=arr_p)\n"
   ]
  },
  {
   "cell_type": "markdown",
   "id": "115e103f",
   "metadata": {},
   "source": [
    "## 1c. Calculate y using only vector operations."
   ]
  },
  {
   "cell_type": "code",
   "execution_count": 4,
   "id": "2509e988",
   "metadata": {},
   "outputs": [
    {
     "name": "stdout",
     "output_type": "stream",
     "text": [
      "Successfully calculated y using vector operations, then rounded to 4 digits:\n",
      "0.1719\n",
      "Vector operations took 0.008853 seconds.\n"
     ]
    }
   ],
   "source": [
    "# Per the numpy documentation, the np.matrix class is no longer recommended for use. Instead, use regular arrays.\n",
    "# https://numpy.org/doc/stable/reference/generated/numpy.matrix.html\n",
    "# Per the instructions, y_2 is indeed calculated in 1 line using vector operations.\n",
    "vector_ops_start_ts = pd.Timestamp.now()\n",
    "y_2 = np.round(((1 / N) * sum((arr_p * arr_alpha * (arr_x ** arr_sigma)))), 4)[0]\n",
    "vector_ops_completion_ts = pd.Timestamp.now()\n",
    "vector_ops_duration_seconds = (vector_ops_completion_ts - vector_ops_start_ts).total_seconds()\n",
    "\n",
    "print(f\"Successfully calculated y using vector operations, then rounded to 4 digits:\\n{y_2}\")\n",
    "print(f\"Vector operations took {vector_ops_duration_seconds} seconds.\")\n"
   ]
  },
  {
   "cell_type": "markdown",
   "id": "5bb0ce68",
   "metadata": {},
   "source": [
    "## Bonus: Check in a pandas DataFrame."
   ]
  },
  {
   "cell_type": "code",
   "execution_count": 5,
   "id": "187f9eb1",
   "metadata": {},
   "outputs": [
    {
     "name": "stdout",
     "output_type": "stream",
     "text": [
      "df_problem_1 info and shape:\n",
      "<class 'pandas.core.frame.DataFrame'>\n",
      "RangeIndex: 10000 entries, 0 to 9999\n",
      "Data columns (total 6 columns):\n",
      " #   Column     Non-Null Count  Dtype  \n",
      "---  ------     --------------  -----  \n",
      " 0   y_i        10000 non-null  string \n",
      " 1   p          10000 non-null  float64\n",
      " 2   alpha      10000 non-null  float64\n",
      " 3   x          10000 non-null  float64\n",
      " 4   sigma      10000 non-null  float64\n",
      " 5   y_i_value  10000 non-null  float64\n",
      "dtypes: float64(5), string(1)\n",
      "memory usage: 468.9 KB\n",
      "(10000, 6)\n",
      "Successfully calculated y using columns in a pandas DataFrame:\n",
      "0.1719\n"
     ]
    }
   ],
   "source": [
    "df_problem_1 = pd.DataFrame(data={\n",
    "    'y_i': [f'y_{i}' for i in range(0, N)],\n",
    "    'p': arr_p.flatten(),\n",
    "    'alpha': arr_alpha.flatten(),\n",
    "    'x': arr_x.flatten(),\n",
    "    'sigma': arr_sigma.flatten()\n",
    "    }\n",
    ")\n",
    "df_problem_1['y_i'] = df_problem_1['y_i'].astype('string')\n",
    "\n",
    "df_problem_1 = df_problem_1.assign(\n",
    "    y_i_value = df_problem_1['p']\\\n",
    "        .mul(df_problem_1['alpha'], fill_value=np.nan)\\\n",
    "        .mul(\n",
    "            (df_problem_1['x'].pow(df_problem_1['sigma'], fill_value=np.nan)),\n",
    "            fill_value=np.nan\n",
    "        )\n",
    ")\n",
    "\n",
    "print(\"df_problem_1 info and shape:\")\n",
    "df_problem_1.info()\n",
    "print(df_problem_1.shape)\n",
    "\n",
    "y_3 = (1 / N) * (df_problem_1['y_i_value'].sum())\n",
    "y_3 = np.round(y_3, 4)\n",
    "print(f\"Successfully calculated y using columns in a pandas DataFrame:\\n{y_3}\")"
   ]
  },
  {
   "cell_type": "code",
   "execution_count": 6,
   "id": "b3e0ec50",
   "metadata": {},
   "outputs": [
    {
     "data": {
      "application/vnd.microsoft.datawrangler.viewer.v0+json": {
       "columns": [
        {
         "name": "index",
         "rawType": "int64",
         "type": "integer"
        },
        {
         "name": "y_i",
         "rawType": "string",
         "type": "string"
        },
        {
         "name": "p",
         "rawType": "float64",
         "type": "float"
        },
        {
         "name": "alpha",
         "rawType": "float64",
         "type": "float"
        },
        {
         "name": "x",
         "rawType": "float64",
         "type": "float"
        },
        {
         "name": "sigma",
         "rawType": "float64",
         "type": "float"
        },
        {
         "name": "y_i_value",
         "rawType": "float64",
         "type": "float"
        }
       ],
       "ref": "acaac2c0-491e-41d9-bd25-d6e09526aeac",
       "rows": [
        [
         "2078",
         "y_2078",
         "0.5661973523034907",
         "0.3213677633810965",
         "0.6108179651249092",
         "0.6224999693540046",
         "0.13387523543857882"
        ],
        [
         "2668",
         "y_2668",
         "0.6908920157231795",
         "0.13221039853995886",
         "0.7925238127240127",
         "0.26662460943439514",
         "0.0858519151161152"
        ],
        [
         "8307",
         "y_8307",
         "0.4108690328066814",
         "0.48782572066209695",
         "0.3216970434834934",
         "0.4083462702581011",
         "0.12613509902635664"
        ],
        [
         "1766",
         "y_1766",
         "0.9068344362809867",
         "0.6324167389107055",
         "0.2866242557072747",
         "0.3751705628505474",
         "0.3588650384960039"
        ],
        [
         "317",
         "y_317",
         "0.4819455355979657",
         "0.09508509749233829",
         "0.491636330518579",
         "0.646828803502502",
         "0.02895055240124574"
        ],
        [
         "1755",
         "y_1755",
         "0.387483952810989",
         "0.07413526469400644",
         "0.3958913743870446",
         "0.8774594114437027",
         "0.012739954367352731"
        ],
        [
         "8691",
         "y_8691",
         "0.5090554275606982",
         "0.10680211164531217",
         "0.4988359344990052",
         "0.39745674652221386",
         "0.041237865157441045"
        ],
        [
         "4895",
         "y_4895",
         "0.690751057908035",
         "0.33544319227615993",
         "0.5763313724108279",
         "0.10937469619989382",
         "0.2181544831862188"
        ],
        [
         "8758",
         "y_8758",
         "0.9970741401005054",
         "0.1749987923944335",
         "0.031416290959432325",
         "0.28954336669197",
         "0.06406541999060343"
        ],
        [
         "6026",
         "y_6026",
         "0.968820222841149",
         "0.34496060849580235",
         "0.9351779344369902",
         "0.7752090154397406",
         "0.317285088401604"
        ]
       ],
       "shape": {
        "columns": 6,
        "rows": 10
       }
      },
      "text/html": [
       "<div>\n",
       "<style scoped>\n",
       "    .dataframe tbody tr th:only-of-type {\n",
       "        vertical-align: middle;\n",
       "    }\n",
       "\n",
       "    .dataframe tbody tr th {\n",
       "        vertical-align: top;\n",
       "    }\n",
       "\n",
       "    .dataframe thead th {\n",
       "        text-align: right;\n",
       "    }\n",
       "</style>\n",
       "<table border=\"1\" class=\"dataframe\">\n",
       "  <thead>\n",
       "    <tr style=\"text-align: right;\">\n",
       "      <th></th>\n",
       "      <th>y_i</th>\n",
       "      <th>p</th>\n",
       "      <th>alpha</th>\n",
       "      <th>x</th>\n",
       "      <th>sigma</th>\n",
       "      <th>y_i_value</th>\n",
       "    </tr>\n",
       "  </thead>\n",
       "  <tbody>\n",
       "    <tr>\n",
       "      <th>2078</th>\n",
       "      <td>y_2078</td>\n",
       "      <td>0.566197</td>\n",
       "      <td>0.321368</td>\n",
       "      <td>0.610818</td>\n",
       "      <td>0.622500</td>\n",
       "      <td>0.133875</td>\n",
       "    </tr>\n",
       "    <tr>\n",
       "      <th>2668</th>\n",
       "      <td>y_2668</td>\n",
       "      <td>0.690892</td>\n",
       "      <td>0.132210</td>\n",
       "      <td>0.792524</td>\n",
       "      <td>0.266625</td>\n",
       "      <td>0.085852</td>\n",
       "    </tr>\n",
       "    <tr>\n",
       "      <th>8307</th>\n",
       "      <td>y_8307</td>\n",
       "      <td>0.410869</td>\n",
       "      <td>0.487826</td>\n",
       "      <td>0.321697</td>\n",
       "      <td>0.408346</td>\n",
       "      <td>0.126135</td>\n",
       "    </tr>\n",
       "    <tr>\n",
       "      <th>1766</th>\n",
       "      <td>y_1766</td>\n",
       "      <td>0.906834</td>\n",
       "      <td>0.632417</td>\n",
       "      <td>0.286624</td>\n",
       "      <td>0.375171</td>\n",
       "      <td>0.358865</td>\n",
       "    </tr>\n",
       "    <tr>\n",
       "      <th>317</th>\n",
       "      <td>y_317</td>\n",
       "      <td>0.481946</td>\n",
       "      <td>0.095085</td>\n",
       "      <td>0.491636</td>\n",
       "      <td>0.646829</td>\n",
       "      <td>0.028951</td>\n",
       "    </tr>\n",
       "    <tr>\n",
       "      <th>1755</th>\n",
       "      <td>y_1755</td>\n",
       "      <td>0.387484</td>\n",
       "      <td>0.074135</td>\n",
       "      <td>0.395891</td>\n",
       "      <td>0.877459</td>\n",
       "      <td>0.012740</td>\n",
       "    </tr>\n",
       "    <tr>\n",
       "      <th>8691</th>\n",
       "      <td>y_8691</td>\n",
       "      <td>0.509055</td>\n",
       "      <td>0.106802</td>\n",
       "      <td>0.498836</td>\n",
       "      <td>0.397457</td>\n",
       "      <td>0.041238</td>\n",
       "    </tr>\n",
       "    <tr>\n",
       "      <th>4895</th>\n",
       "      <td>y_4895</td>\n",
       "      <td>0.690751</td>\n",
       "      <td>0.335443</td>\n",
       "      <td>0.576331</td>\n",
       "      <td>0.109375</td>\n",
       "      <td>0.218154</td>\n",
       "    </tr>\n",
       "    <tr>\n",
       "      <th>8758</th>\n",
       "      <td>y_8758</td>\n",
       "      <td>0.997074</td>\n",
       "      <td>0.174999</td>\n",
       "      <td>0.031416</td>\n",
       "      <td>0.289543</td>\n",
       "      <td>0.064065</td>\n",
       "    </tr>\n",
       "    <tr>\n",
       "      <th>6026</th>\n",
       "      <td>y_6026</td>\n",
       "      <td>0.968820</td>\n",
       "      <td>0.344961</td>\n",
       "      <td>0.935178</td>\n",
       "      <td>0.775209</td>\n",
       "      <td>0.317285</td>\n",
       "    </tr>\n",
       "  </tbody>\n",
       "</table>\n",
       "</div>"
      ],
      "text/plain": [
       "         y_i         p     alpha         x     sigma  y_i_value\n",
       "2078  y_2078  0.566197  0.321368  0.610818  0.622500   0.133875\n",
       "2668  y_2668  0.690892  0.132210  0.792524  0.266625   0.085852\n",
       "8307  y_8307  0.410869  0.487826  0.321697  0.408346   0.126135\n",
       "1766  y_1766  0.906834  0.632417  0.286624  0.375171   0.358865\n",
       "317    y_317  0.481946  0.095085  0.491636  0.646829   0.028951\n",
       "1755  y_1755  0.387484  0.074135  0.395891  0.877459   0.012740\n",
       "8691  y_8691  0.509055  0.106802  0.498836  0.397457   0.041238\n",
       "4895  y_4895  0.690751  0.335443  0.576331  0.109375   0.218154\n",
       "8758  y_8758  0.997074  0.174999  0.031416  0.289543   0.064065\n",
       "6026  y_6026  0.968820  0.344961  0.935178  0.775209   0.317285"
      ]
     },
     "execution_count": 6,
     "metadata": {},
     "output_type": "execute_result"
    }
   ],
   "source": [
    "# Display some sampled rows.\n",
    "df_problem_1.sample(n=10)"
   ]
  },
  {
   "cell_type": "markdown",
   "id": "048f897a",
   "metadata": {},
   "source": [
    "## Confirm that all 3 calculation procedures produced the same result."
   ]
  },
  {
   "cell_type": "code",
   "execution_count": 7,
   "id": "69abe80b",
   "metadata": {},
   "outputs": [
    {
     "name": "stdout",
     "output_type": "stream",
     "text": [
      "y_1 = 0.1719\n",
      "y_2 = 0.1719\n",
      "y_3 = 0.1719\n"
     ]
    }
   ],
   "source": [
    "print(f\"y_1 = {y_1}\")\n",
    "print(f\"y_2 = {y_2}\")\n",
    "print(f\"y_3 = {y_3}\")\n",
    "assert y_1 == y_2 == y_3, \"The calculations did not all produce the same result.\""
   ]
  },
  {
   "cell_type": "markdown",
   "id": "299b9b72",
   "metadata": {},
   "source": [
    "## 1d. Timing for loop vs vector operations. We know that vector operations are faster."
   ]
  },
  {
   "cell_type": "code",
   "execution_count": 8,
   "id": "71022942",
   "metadata": {},
   "outputs": [
    {
     "name": "stdout",
     "output_type": "stream",
     "text": [
      "Calculating y in a for loop took 0.1086 seconds longer than calculating y using vector operations.\n",
      "The vector operations were 92.0% faster than the loop calculation.\n"
     ]
    }
   ],
   "source": [
    "loop_diff_vector_seconds = np.round((loop_duration_seconds - vector_ops_duration_seconds), 4)\n",
    "print(f\"Calculating y in a for loop took {loop_diff_vector_seconds} seconds longer than calculating y using vector operations.\")\n",
    "# seconds_pct_diff is negative because vector_ops_duration_seconds < loop_duration_seconds\n",
    "# ie the vector operations were faster than the loop calculations.\n",
    "seconds_pct_diff = np.round(np.abs(\n",
    "    ((vector_ops_duration_seconds - loop_duration_seconds) / loop_duration_seconds) * 100\n",
    "    )\n",
    ")\n",
    "print(f\"The vector operations were {seconds_pct_diff}% faster than the loop calculation.\")"
   ]
  },
  {
   "cell_type": "markdown",
   "id": "8d82b2c5",
   "metadata": {},
   "source": [
    "# Problem 2."
   ]
  },
  {
   "cell_type": "markdown",
   "id": "9005f042",
   "metadata": {},
   "source": [
    "## 2a. We are given Equation (1), a non-linear equation for labor supply, and told to convince ourselves it is true."
   ]
  },
  {
   "cell_type": "markdown",
   "id": "b8f01331",
   "metadata": {},
   "source": [
    "## 2b. Define function F for the first order conditions and budget constraint given in Equation (1)."
   ]
  },
  {
   "cell_type": "code",
   "execution_count": 9,
   "id": "21a68cbd",
   "metadata": {},
   "outputs": [],
   "source": [
    "def F(_l: np.ndarray | float,\n",
    "      _W: np.ndarray | float,\n",
    "      _alpha: np.ndarray | float,\n",
    "      _sigma: np.ndarray | float,\n",
    "      _v: np.ndarray | float,\n",
    "      _psi: np.ndarray | float,\n",
    "      _beta: np.ndarray | float,\n",
    "      _r: np.ndarray | float\n",
    "    ) -> np.ndarray | float:\n",
    "    \"\"\"\n",
    "    Non-linear labor supply equation given in Equation (1).\n",
    "    \"\"\"\n",
    "\n",
    "    # The equation requires careful typing, so let's go term by term.\n",
    "    term_1 = _l ** (1 - _alpha)\n",
    "    term_2 = _W\n",
    "    term_3 = (1 / (_l ** ((_v + _alpha) / _sigma)))\n",
    "    term_4 = ((1 - _alpha) / _psi) ** (1 / _sigma)\n",
    "    term_5 = 1 + (((_beta * (1 + _r)) ** (1 / _sigma)) / (1 + _r))\n",
    "    \n",
    "    return term_1 + term_2 - (term_3 * term_4 * term_5)\n"
   ]
  },
  {
   "cell_type": "markdown",
   "id": "a3a59c91",
   "metadata": {},
   "source": [
    "## 2c. Plot the non-linear labor supply for different values of W."
   ]
  },
  {
   "cell_type": "code",
   "execution_count": 10,
   "id": "c84de18d",
   "metadata": {},
   "outputs": [
    {
     "data": {
      "image/png": "[encoded data removed]",
      "text/plain": [
       "<Figure size 1000x500 with 1 Axes>"
      ]
     },
     "metadata": {},
     "output_type": "display_data"
    }
   ],
   "source": [
    "l = np.linspace(start=0.1, stop=1.5, num=200)\n",
    "# W = 1\n",
    "alpha = 0.66\n",
    "v = 1.3\n",
    "sigma = 2\n",
    "psi = 1.5\n",
    "beta = 0.98\n",
    "r = 0.04\n",
    "\n",
    "# We are told to plot 3 values of W, W = 0, 1, 2. Place these ndarrays into a list.\n",
    "w_curves_list = [\n",
    "    F(\n",
    "        _l=l,\n",
    "        _W=w,\n",
    "        _alpha=alpha,\n",
    "        _sigma=sigma,\n",
    "        _v=v,\n",
    "        _psi=psi,\n",
    "        _beta=beta,\n",
    "        _r=r\n",
    "    ) for w in range(0, 3)\n",
    "]\n",
    "\n",
    "plt.figure(figsize=(10,5))\n",
    "for num, ls in enumerate(w_curves_list):\n",
    "    plt.plot(l, ls, label=f'W = {num}')\n",
    "plt.title(\"Non-linear Labor Supply, per Equation (1)\")\n",
    "plt.xlabel(f\"Labor Effort $l$\")\n",
    "plt.ylabel(f\"F($l$, ...)\")\n",
    "plt.legend()\n",
    "plt.grid(True)\n",
    "# Add the line y = 0.\n",
    "plt.axhline(0, color='black', linestyle='--', linewidth=1)\n",
    "plt.show()"
   ]
  },
  {
   "cell_type": "markdown",
   "id": "605d792c",
   "metadata": {},
   "source": [
    "## Looking back at Equation (1), the code here is the left side of the equation and the right side of the equation is zero. Thus the equilibrium for the plotted curves occurs at y=0, which I added to the plot. Of the three curves, the curve drawn by W=0 intersects the line y=0 at an x value larger than the other two curves. This tells us that the agent will work the most at W=0, and work the least at W=2. More generally, this graph tells us that an agent works less as W increases."
   ]
  },
  {
   "cell_type": "markdown",
   "id": "6f6e2fcf",
   "metadata": {},
   "source": [
    "## 2d. We are given Equation (2), the derivative of Equation (1) with respect to _l_, and told to convince ourselves that it is true."
   ]
  },
  {
   "cell_type": "markdown",
   "id": "12a2af11",
   "metadata": {},
   "source": [
    "# 2e. Define functions to calculate labor supply using Newton's method."
   ]
  },
  {
   "cell_type": "code",
   "execution_count": 11,
   "id": "3028fb58",
   "metadata": {},
   "outputs": [],
   "source": [
    "def dF_dl(_l: np.ndarray | float,\n",
    "          _W: np.ndarray | float,\n",
    "          _alpha: np.ndarray | float,\n",
    "          _sigma: np.ndarray | float,\n",
    "          _v: np.ndarray | float,\n",
    "          _psi: np.ndarray | float,\n",
    "          _beta: np.ndarray | float,\n",
    "          _r: np.ndarray | float\n",
    "    ) -> np.ndarray | float:\n",
    "    \"\"\"\n",
    "    The derivative of the non-linear labor supply equation, Equation (1), with respect to l. This is Equation (2).\n",
    "    \"\"\"\n",
    "\n",
    "    # Carefully type out the derivative term by term.\n",
    "    term_1 = (1 - _alpha) / (_l ** _alpha)\n",
    "    term_2 = (_v + _alpha) / _sigma\n",
    "    term_3 = ((1 - _alpha) / _psi) ** (1 / _sigma)\n",
    "    term_4 = 1 + (((_beta * (1 + _r)) ** (1 / _sigma)) / (1 + _r))\n",
    "    term_5 = 1 / (_l ** (1 + ((_v + _alpha) / _sigma)))\n",
    "    \n",
    "    return term_1 + (term_2 * term_3 * term_4 * term_5)\n",
    "\n",
    "def labor_supply(_l0: np.ndarray | float,\n",
    "                _W: np.ndarray | float,\n",
    "                _alpha: np.ndarray | float,\n",
    "                _sigma: np.ndarray | float,\n",
    "                _v: np.ndarray | float,\n",
    "                _psi: np.ndarray | float,\n",
    "                _beta: np.ndarray | float,\n",
    "                _r: np.ndarray | float\n",
    "            ) -> np.ndarray | float:\n",
    "    \"\"\"\n",
    "    Use scipy.optimize.newton to solve the non-linear labor supply equation, Equation (1).\n",
    "    \"\"\"\n",
    "    \n",
    "    # https://docs.scipy.org/doc/scipy/reference/generated/scipy.optimize.newton.html\n",
    "    # Per the documentation, \"...The Newton-Raphson method is used if the derivative fprime of func is provided...\".\n",
    "    # The question provides us with func=F in Equation (1) and fprime=dF_dl in Equation (2). Thus using scipy.optimize.newton\n",
    "    # satisfies the requirements of this question.\n",
    "    \n",
    "    # Equilibrium is at the point l* where Equation(1) = 0, ie where the curves intersect the line y=0 in the above graph from part 2c.\n",
    "    l_star_ = newton(\n",
    "        func=F,\n",
    "        x0=_l0,\n",
    "        fprime=dF_dl,\n",
    "        args=(_W, _alpha, _sigma, _v, _psi, _beta, _r),\n",
    "        maxiter=100,\n",
    "        full_output=True\n",
    "    )\n",
    "    \n",
    "    return l_star_"
   ]
  },
  {
   "cell_type": "markdown",
   "id": "94ac310e",
   "metadata": {},
   "source": [
    "# 2f. Checking l_star for the W=2 curve."
   ]
  },
  {
   "cell_type": "code",
   "execution_count": 12,
   "id": "a2e2ff4d",
   "metadata": {},
   "outputs": [
    {
     "name": "stdout",
     "output_type": "stream",
     "text": [
      "Testing starting point l0 = 0.5\n",
      "(np.float64(0.34091210391979226),       converged: True\n",
      "           flag: converged\n",
      " function_calls: 12\n",
      "     iterations: 6\n",
      "           root: 0.34091210391979226\n",
      "         method: newton)\n",
      "Testing starting point l0 = 3\n",
      "Failed to converge after 100 iterations, value is nan.\n",
      "Encountered RuntimeError when testing the starting point l0 = 3\n"
     ]
    },
    {
     "name": "stderr",
     "output_type": "stream",
     "text": [
      "C:\\Users\\plott\\AppData\\Local\\Temp\\ipykernel_12860\\3696172881.py:15: RuntimeWarning: invalid value encountered in scalar power\n",
      "  term_1 = _l ** (1 - _alpha)\n",
      "C:\\Users\\plott\\AppData\\Local\\Temp\\ipykernel_12860\\3696172881.py:17: RuntimeWarning: invalid value encountered in scalar power\n",
      "  term_3 = (1 / (_l ** ((_v + _alpha) / _sigma)))\n",
      "C:\\Users\\plott\\AppData\\Local\\Temp\\ipykernel_12860\\773971812.py:19: RuntimeWarning: invalid value encountered in scalar power\n",
      "  term_5 = 1 / (_l ** (1 + ((_v + _alpha) / _sigma)))\n"
     ]
    }
   ],
   "source": [
    "# Per the question instructions, want to test the starting points l0=0.5 and l0=3 on the W=2 curve.\n",
    "l0_list = [0.5, 3]\n",
    "for l0 in l0_list:\n",
    "    print(f\"Testing starting point l0 = {l0}\")\n",
    "    try:\n",
    "        l_star = labor_supply(\n",
    "                _l0=l0,\n",
    "                _W=2,\n",
    "                _alpha=alpha,\n",
    "                _sigma=sigma,\n",
    "                _v=v,\n",
    "                _psi=psi,\n",
    "                _beta=beta,\n",
    "                _r=r\n",
    "            )\n",
    "    except RuntimeError as e:\n",
    "        print(e)\n",
    "        print(f\"Encountered RuntimeError when testing the starting point l0 = {l0}\")\n",
    "    else:\n",
    "        print(l_star)\n",
    "        # l_star should solve F(l_star, ...) = 0, approximately.\n",
    "        f_l_star = F(\n",
    "            _l=l_star[0],\n",
    "            _W=2,\n",
    "            _alpha=alpha,\n",
    "            _sigma=sigma,\n",
    "            _v=v,\n",
    "            _psi=psi,\n",
    "            _beta=beta,\n",
    "            _r=r\n",
    "        )\n",
    "        assert np.isclose(f_l_star, 0), \"f_l_star is not a solution to Equation(1).\"\n"
   ]
  },
  {
   "cell_type": "markdown",
   "id": "ca6cf2fd",
   "metadata": {},
   "source": [
    "## From the code output, Newton's method converged for starting value l0=0.5 but failed for starting value l0=3. Looking at the graph from question 2c, the W=2 curve intersects the y=0 line somewhere between 0.2 and 0.4, so l0=0.5 is an okay guess for a starting point. However, l0=3 is not a good starting point since we can see that the W=2 curve does not intersect the line y=0 around l=3 along the horizontal axis."
   ]
  },
  {
   "cell_type": "markdown",
   "id": "99fe3a06",
   "metadata": {},
   "source": [
    "# Bonus: Plot the W curves again, this time including the approximate intersection point of each curve with the line y=0."
   ]
  },
  {
   "cell_type": "code",
   "execution_count": 13,
   "id": "68295849",
   "metadata": {},
   "outputs": [
    {
     "name": "stdout",
     "output_type": "stream",
     "text": [
      "0.9\n",
      "(np.float64(0.9528625326567233),       converged: True\n",
      "           flag: converged\n",
      " function_calls: 8\n",
      "     iterations: 4\n",
      "           root: 0.9528625326567233\n",
      "         method: newton)\n",
      "0.5\n",
      "(np.float64(0.5149517943873635),       converged: True\n",
      "           flag: converged\n",
      " function_calls: 8\n",
      "     iterations: 4\n",
      "           root: 0.5149517943873635\n",
      "         method: newton)\n",
      "0.3\n",
      "(np.float64(0.3409121039197921),       converged: True\n",
      "           flag: converged\n",
      " function_calls: 8\n",
      "     iterations: 4\n",
      "           root: 0.3409121039197921\n",
      "         method: newton)\n",
      "Solution for W=0 curve: (0.9528625326567233, -1.1102230246251565e-16)\n",
      "Solution for W=1 curve: (0.5149517943873635, -4.440892098500626e-16)\n",
      "Solution for W=2 curve: (0.3409121039197921, -2.220446049250313e-15)\n"
     ]
    }
   ],
   "source": [
    "# Look at the graph and guess the approximate l values where each curve intersects the line y=0.\n",
    "# The guesses are ordered based on their corresponding W curve.\n",
    "# ie good_l0_guesses[0] = 0.9 --> W=0 curve\n",
    "good_l0_guesses = [\n",
    "    0.9, # W=0\n",
    "    0.5, # W=1\n",
    "    0.3 # W=2\n",
    "]\n",
    "\n",
    "l_star_list = []\n",
    "for num, l0 in enumerate(good_l0_guesses):\n",
    "    print(l0)\n",
    "    l_star = labor_supply(\n",
    "        _l0=l0,\n",
    "        _W=num,\n",
    "        _alpha=alpha,\n",
    "        _sigma=sigma,\n",
    "        _v=v,\n",
    "        _psi=psi,\n",
    "        _beta=beta,\n",
    "        _r=r\n",
    "    )\n",
    "    print(l_star)\n",
    "    l_star_list.append(l_star[0])\n",
    "\n",
    "# Now loop over the solutions and should get f_l_star approximately zero.\n",
    "f_l_star_list = []\n",
    "for num, l_star in enumerate(l_star_list):\n",
    "    f_l_star = F(\n",
    "        _l=l_star,\n",
    "        _W=num,\n",
    "        _alpha=alpha,\n",
    "        _sigma=sigma,\n",
    "        _v=v,\n",
    "        _psi=psi,\n",
    "        _beta=beta,\n",
    "        _r=r\n",
    "    )\n",
    "    assert np.isclose(f_l_star, 0), \"f_l_star is not a solution to Equation(1).\"\n",
    "    f_l_star_list.append(f_l_star)\n",
    "    print(f\"Solution for W={num} curve: ({l_star}, {f_l_star})\")\n"
   ]
  },
  {
   "cell_type": "code",
   "execution_count": 14,
   "id": "4e44b4dc",
   "metadata": {},
   "outputs": [
    {
     "data": {
      "image/png": "[encoded data removed]",
      "text/plain": [
       "<Figure size 1000x500 with 1 Axes>"
      ]
     },
     "metadata": {},
     "output_type": "display_data"
    }
   ],
   "source": [
    "points_list = [np.array((l, f_l)) for l, f_l in zip(l_star_list, f_l_star_list)]\n",
    "\n",
    "plt.figure(figsize=(10,5))\n",
    "for num, ls in enumerate(w_curves_list):\n",
    "    plt.plot(l, ls, label=f'W = {num}')\n",
    "for num, point in enumerate(points_list):\n",
    "    plt.scatter(point[0], point[1], label=f\"W={num}, ({np.round(point[0], 4)}, {np.round(point[1], 4)})\")\n",
    "plt.title(\"Non-linear Labor Supply with Equilibrium Points\")\n",
    "plt.xlabel(f\"Labor Effort $l$\")\n",
    "plt.ylabel(f\"F($l$, ...)\")\n",
    "plt.legend()\n",
    "plt.grid(True)\n",
    "# Add the line y = 0.\n",
    "plt.axhline(0, color='black', linestyle='--', linewidth=1)\n",
    "plt.show()"
   ]
  }
 ],
 "metadata": {
  "kernelspec": {
   "display_name": "hw_env",
   "language": "python",
   "name": "python3"
  },
  "language_info": {
   "codemirror_mode": {
    "name": "ipython",
    "version": 3
   },
   "file_extension": ".py",
   "mimetype": "text/x-python",
   "name": "python",
   "nbconvert_exporter": "python",
   "pygments_lexer": "ipython3",
   "version": "3.12.9"
  }
 },
 "nbformat": 4,
 "nbformat_minor": 5
}
