{
 "cells": [
  {
   "cell_type": "markdown",
   "id": "3e05d472",
   "metadata": {},
   "source": [
    "# Imports."
   ]
  },
  {
   "cell_type": "code",
   "execution_count": 2,
   "id": "fe1ba1d0",
   "metadata": {},
   "outputs": [],
   "source": [
    "import pandas as pd\n",
    "import numpy as np\n",
    "\n",
    "import plotly.graph_objects as go\n",
    "import plotly.io as pio\n",
    "\n",
    "from scipy.optimize import fsolve\n",
    "\n",
    "import os\n",
    "\n",
    "from IPython import get_ipython\n",
    "from IPython.display import Image, display\n",
    "\n",
    "\n",
    "from comp_econ import comp_econ as ce"
   ]
  },
  {
   "cell_type": "markdown",
   "id": "1688e51c",
   "metadata": {},
   "source": [
    "# Problem 1a - For loop computation."
   ]
  },
  {
   "cell_type": "code",
   "execution_count": null,
   "id": "da8427b8",
   "metadata": {},
   "outputs": [],
   "source": [
    "def y_by_loop(_alpha: list, _sigma: list, _x: list, _p: list) -> float:\n",
    "    \n",
    "    \"\"\"\n",
    "    Per the problem instructions, all inputs are supposed to be drawn from a random uniform distribution,\n",
    "    and all input lists must have same length.\n",
    "\n",
    "    Parameters\n",
    "    ----------\n",
    "    _alpha : list\n",
    "        List of scalars drawn from random uniform distribution.\n",
    "    _sigma : list\n",
    "        List of scalars drawn from random uniform distribution.\n",
    "    _x : list\n",
    "        List of scalars drawn from random uniform distribution.\n",
    "    _p : list\n",
    "        List of scalars drawn from random uniform distribution.\n",
    "\n",
    "    Returns\n",
    "    -------\n",
    "    float\n",
    "        The sum of all y_i's multiplied by (1/ N), where y_i = p_i * alpha_i * (x_i ** sigma_i).\n",
    "\n",
    "    \"\"\"\n",
    "\n",
    "    # We are told every input list is of length N, but we are not told to have N as an input parameter.\n",
    "    assert len(_alpha) == len(_sigma) == len(_x) == len(_p), \"All input lists must have same length.\"\n",
    "    # Since all input lists are of same length, pick N = len(_alpha).\n",
    "    N = len(_alpha)\n",
    "\n",
    "    # Per the instructions, run the calculation in a loop.\n",
    "    y_results_list = []\n",
    "    for i in range(0, N):\n",
    "        y_i = _p[i] * _alpha[i] * (_x[i] ** _sigma[i])\n",
    "        y_results_list.append(y_i)\n",
    "    \n",
    "    # The sum of all y_i's.\n",
    "    y = (1 / N) * sum(y_results_list)\n",
    "\n",
    "    return y\n"
   ]
  },
  {
   "cell_type": "code",
   "execution_count": 3,
   "id": "e70cba9a",
   "metadata": {},
   "outputs": [],
   "source": [
    "rng = np.random.default_rng()"
   ]
  },
  {
   "cell_type": "code",
   "execution_count": 10,
   "id": "3b0f5347",
   "metadata": {},
   "outputs": [
    {
     "data": {
      "text/plain": [
       "array([[0.90294573],\n",
       "       [0.27162716],\n",
       "       [0.01707843],\n",
       "       [0.17534566]])"
      ]
     },
     "execution_count": 10,
     "metadata": {},
     "output_type": "execute_result"
    }
   ],
   "source": [
    "N = 4\n",
    "rng.uniform(low=0.01, high=1, size=(N, 1))"
   ]
  },
  {
   "cell_type": "code",
   "execution_count": null,
   "id": "e006958d",
   "metadata": {},
   "outputs": [
    {
     "data": {
      "text/plain": [
       "[[0.8288325316593997],\n",
       " [0.8246465087131184],\n",
       " [0.7271822148882267],\n",
       " [0.058251608818196944]]"
      ]
     },
     "execution_count": 15,
     "metadata": {},
     "output_type": "execute_result"
    }
   ],
   "source": [
    "np.matrix(rng.uniform(low=0.01, high=1, size=(N, 1)))"
   ]
  },
  {
   "cell_type": "code",
   "execution_count": null,
   "id": "5b754040",
   "metadata": {},
   "outputs": [],
   "source": []
  }
 ],
 "metadata": {
  "kernelspec": {
   "display_name": "hw_env",
   "language": "python",
   "name": "python3"
  },
  "language_info": {
   "codemirror_mode": {
    "name": "ipython",
    "version": 3
   },
   "file_extension": ".py",
   "mimetype": "text/x-python",
   "name": "python",
   "nbconvert_exporter": "python",
   "pygments_lexer": "ipython3",
   "version": "3.12.9"
  }
 },
 "nbformat": 4,
 "nbformat_minor": 5
}
