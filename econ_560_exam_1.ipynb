{
 "cells": [
  {
   "cell_type": "markdown",
   "id": "3e05d472",
   "metadata": {},
   "source": [
    "# Imports."
   ]
  },
  {
   "cell_type": "code",
   "execution_count": 47,
   "id": "fe1ba1d0",
   "metadata": {},
   "outputs": [],
   "source": [
    "import pandas as pd\n",
    "import numpy as np\n",
    "\n",
    "import secrets\n",
    "\n",
    "import plotly.graph_objects as go\n",
    "import plotly.io as pio\n",
    "\n",
    "import matplotlib.pyplot as plt\n",
    "\n",
    "from scipy.optimize import newton\n",
    "\n",
    "import os\n",
    "\n",
    "from IPython import get_ipython\n",
    "from IPython.display import Image, display\n",
    "\n",
    "\n",
    "from comp_econ import comp_econ as ce"
   ]
  },
  {
   "cell_type": "markdown",
   "id": "cf8bb71c",
   "metadata": {},
   "source": [
    "# Problem 1."
   ]
  },
  {
   "cell_type": "markdown",
   "id": "1688e51c",
   "metadata": {},
   "source": [
    "## 1a. Define a function to calculate y using a for loop."
   ]
  },
  {
   "cell_type": "code",
   "execution_count": 48,
   "id": "da8427b8",
   "metadata": {},
   "outputs": [],
   "source": [
    "def y_by_loop(_alpha: np.ndarray, _sigma: np.ndarray, _x: np.ndarray, _p: np.ndarray) -> tuple:\n",
    "    \n",
    "    r\"\"\"\n",
    "    Per the problem instructions, all inputs are supposed to be drawn from a random uniform distribution,\n",
    "    and all input ndarrays must have same length.\n",
    "\n",
    "    Parameters\n",
    "    ----------\n",
    "    _alpha : np.ndarray\n",
    "        ndarray of scalars drawn from random uniform distribution.\n",
    "    _sigma : np.ndarray\n",
    "        ndarray of scalars drawn from random uniform distribution.\n",
    "    _x : np.ndarray\n",
    "        ndarray of scalars drawn from random uniform distribution.\n",
    "    _p : np.ndarray\n",
    "        ndarray of scalars drawn from random uniform distribution.\n",
    "\n",
    "    Returns\n",
    "    -------\n",
    "    3-tuple\n",
    "        A float y_ that is the sum of all y_i's multiplied by (1/ N), where y_i = p_i * alpha_i * (x_i ** sigma_i).\n",
    "\n",
    "        An integer N_, the length each of the input ndarrays.\n",
    "\n",
    "        A float loop_duration_seconds_ that is the number of seconds the function took to run.\n",
    "    \"\"\"\n",
    "\n",
    "    # We are told every input ndarray is of length N, but we are not told to have N as an input parameter.\n",
    "    assert _alpha.shape == _sigma.shape == _x.shape == _p.shape, \"All input ndarray must have same length.\"\n",
    "    # Since all input ndarrays are of same length, pick N = _alpha.shape[0].\n",
    "    N_ = _alpha.shape[0]\n",
    "\n",
    "    # Per the instructions, run the calculation in a loop.\n",
    "    y_results_list = []\n",
    "    loop_start_ts = pd.Timestamp.now()\n",
    "    for i in range(0, N_):\n",
    "        # rng.uniform(...) returns an array of arrays. Using .flatten() here results in a float being\n",
    "        # returned instead of an ndarray.\n",
    "        y_i = _p.flatten()[i] * _alpha.flatten()[i] * (_x.flatten()[i] ** _sigma.flatten()[i])\n",
    "        y_results_list.append(y_i)\n",
    "    loop_completion_ts = pd.Timestamp.now()\n",
    "\n",
    "    loop_duration_seconds_ = (loop_completion_ts - loop_start_ts).total_seconds()\n",
    "\n",
    "    # (1 / N) multiplied by the sum of all y_i's.\n",
    "    y_ = (1 / N_) * sum(y_results_list)\n",
    "    y_ = np.round(y_, 4)\n",
    "\n",
    "\n",
    "\n",
    "    print(f\"Successfully calculated y using a for loop, then rounded to 4 digits:\\n{y_}\")\n",
    "    print(f\"Calculation in a loop took {loop_duration_seconds_} seconds.\")\n",
    "\n",
    "    return y_, N_, loop_duration_seconds_\n"
   ]
  },
  {
   "cell_type": "markdown",
   "id": "32a6e82a",
   "metadata": {},
   "source": [
    "## 1b. Draw from random uniform distribution using seeds for reproducible results, then compute y using y_by_loop(...)."
   ]
  },
  {
   "cell_type": "code",
   "execution_count": 49,
   "id": "e70cba9a",
   "metadata": {},
   "outputs": [
    {
     "name": "stdout",
     "output_type": "stream",
     "text": [
      "seed_alpha: 297092686862765216288108259505883662979\n",
      "seed_sigma: 184026341647087416225805240766306404988\n",
      "seed_x: 32493558107609286056695897378972066115\n",
      "seed_p: 130478781648348288467292582175479009005\n",
      "Performing 4 draws of length 10000 from random uniform distribution.\n",
      "Successfully calculated y using a for loop, then rounded to 4 digits:\n",
      "0.173\n",
      "Calculation in a loop took 0.107327 seconds.\n"
     ]
    }
   ],
   "source": [
    "num_draws = int(1e4)\n",
    "# num_draws = 2\n",
    "\n",
    "# Assign seeds for reproducible results.\n",
    "seed_alpha = secrets.randbits(128)\n",
    "print(f\"seed_alpha: {seed_alpha}\")\n",
    "\n",
    "seed_sigma = secrets.randbits(128) \n",
    "print(f\"seed_sigma: {seed_sigma}\")\n",
    "\n",
    "seed_x = secrets.randbits(128)\n",
    "print(f\"seed_x: {seed_x}\")\n",
    "\n",
    "seed_p = secrets.randbits(128)\n",
    "print(f\"seed_p: {seed_p}\")\n",
    "\n",
    "print(f\"Performing 4 draws of length {num_draws} from random uniform distribution.\")\n",
    "# rng = np.random.default_rng()\n",
    "# Numpy docs for seeds of random numbers.\n",
    "# https://numpy.org/doc/2.3/reference/random/index.html#random-quick-start\n",
    "arr_alpha = np.random.default_rng(seed_alpha).uniform(size=(num_draws, 1))\n",
    "arr_sigma = np.random.default_rng(seed_sigma).uniform(size=(num_draws, 1))\n",
    "arr_x = np.random.default_rng(seed_x).uniform(size=(num_draws, 1))\n",
    "arr_p = np.random.default_rng(seed_p).uniform(size=(num_draws, 1))\n",
    "\n",
    "y_1, N, loop_duration_seconds = y_by_loop(_alpha=arr_alpha, _sigma=arr_sigma, _x=arr_x, _p=arr_p)\n"
   ]
  },
  {
   "cell_type": "markdown",
   "id": "115e103f",
   "metadata": {},
   "source": [
    "## 1c. Calculate y using only vector operations."
   ]
  },
  {
   "cell_type": "code",
   "execution_count": 50,
   "id": "2509e988",
   "metadata": {},
   "outputs": [
    {
     "name": "stdout",
     "output_type": "stream",
     "text": [
      "Successfully calculated y using vector operations, then rounded to 4 digits:\n",
      "0.173\n",
      "Vector operations took 0.006417 seconds.\n"
     ]
    }
   ],
   "source": [
    "# Per the numpy documentation, the np.matrix class is no longer recommended for use. Instead, use regular arrays.\n",
    "# https://numpy.org/doc/stable/reference/generated/numpy.matrix.html\n",
    "# Per the instructions, y_2 is indeed calculated in 1 line using vector operations.\n",
    "vector_ops_start_ts = pd.Timestamp.now()\n",
    "y_2 = np.round(((1 / N) * sum((arr_p * arr_alpha * (arr_x ** arr_sigma)))), 4)[0]\n",
    "vector_ops_completion_ts = pd.Timestamp.now()\n",
    "vector_ops_duration_seconds = (vector_ops_completion_ts - vector_ops_start_ts).total_seconds()\n",
    "\n",
    "print(f\"Successfully calculated y using vector operations, then rounded to 4 digits:\\n{y_2}\")\n",
    "print(f\"Vector operations took {vector_ops_duration_seconds} seconds.\")\n"
   ]
  },
  {
   "cell_type": "markdown",
   "id": "5bb0ce68",
   "metadata": {},
   "source": [
    "## Bonus: Check in a pandas DataFrame."
   ]
  },
  {
   "cell_type": "code",
   "execution_count": 51,
   "id": "187f9eb1",
   "metadata": {},
   "outputs": [
    {
     "name": "stdout",
     "output_type": "stream",
     "text": [
      "df_problem_1 info and shape:\n",
      "<class 'pandas.core.frame.DataFrame'>\n",
      "RangeIndex: 10000 entries, 0 to 9999\n",
      "Data columns (total 6 columns):\n",
      " #   Column     Non-Null Count  Dtype  \n",
      "---  ------     --------------  -----  \n",
      " 0   y_i        10000 non-null  string \n",
      " 1   p          10000 non-null  float64\n",
      " 2   alpha      10000 non-null  float64\n",
      " 3   x          10000 non-null  float64\n",
      " 4   sigma      10000 non-null  float64\n",
      " 5   y_i_value  10000 non-null  float64\n",
      "dtypes: float64(5), string(1)\n",
      "memory usage: 468.9 KB\n",
      "(10000, 6)\n",
      "Successfully calculated y using columns in a pandas DataFrame:\n",
      "0.173\n"
     ]
    }
   ],
   "source": [
    "df_problem_1 = pd.DataFrame(data={\n",
    "    'y_i': [f'y_{i}' for i in range(0, N)],\n",
    "    'p': arr_p.flatten(),\n",
    "    'alpha': arr_alpha.flatten(),\n",
    "    'x': arr_x.flatten(),\n",
    "    'sigma': arr_sigma.flatten()\n",
    "    }\n",
    ")\n",
    "df_problem_1['y_i'] = df_problem_1['y_i'].astype('string')\n",
    "\n",
    "df_problem_1 = df_problem_1.assign(\n",
    "    y_i_value = df_problem_1['p']\\\n",
    "        .mul(df_problem_1['alpha'], fill_value=np.nan)\\\n",
    "        .mul(\n",
    "            (df_problem_1['x'].pow(df_problem_1['sigma'], fill_value=np.nan)),\n",
    "            fill_value=np.nan\n",
    "        )\n",
    ")\n",
    "\n",
    "print(\"df_problem_1 info and shape:\")\n",
    "df_problem_1.info()\n",
    "print(df_problem_1.shape)\n",
    "\n",
    "y_3 = (1 / N) * (df_problem_1['y_i_value'].sum())\n",
    "y_3 = np.round(y_3, 4)\n",
    "print(f\"Successfully calculated y using columns in a pandas DataFrame:\\n{y_3}\")"
   ]
  },
  {
   "cell_type": "code",
   "execution_count": 52,
   "id": "b3e0ec50",
   "metadata": {},
   "outputs": [
    {
     "data": {
      "application/vnd.microsoft.datawrangler.viewer.v0+json": {
       "columns": [
        {
         "name": "index",
         "rawType": "int64",
         "type": "integer"
        },
        {
         "name": "y_i",
         "rawType": "string",
         "type": "string"
        },
        {
         "name": "p",
         "rawType": "float64",
         "type": "float"
        },
        {
         "name": "alpha",
         "rawType": "float64",
         "type": "float"
        },
        {
         "name": "x",
         "rawType": "float64",
         "type": "float"
        },
        {
         "name": "sigma",
         "rawType": "float64",
         "type": "float"
        },
        {
         "name": "y_i_value",
         "rawType": "float64",
         "type": "float"
        }
       ],
       "ref": "3586c97e-0c46-4d15-872b-09675cbbcbc8",
       "rows": [
        [
         "3911",
         "y_3911",
         "0.67848738853893",
         "0.5136217836673013",
         "0.5836750699698439",
         "0.29946366037706473",
         "0.2965937323041841"
        ],
        [
         "4053",
         "y_4053",
         "0.6806708750444906",
         "0.9228311639015359",
         "0.23128775756593012",
         "0.4026447948578745",
         "0.3483684311266899"
        ],
        [
         "2444",
         "y_2444",
         "0.8270137172723914",
         "0.5508501521573702",
         "0.8495251738089863",
         "0.4973060049784872",
         "0.4200733323659899"
        ],
        [
         "8934",
         "y_8934",
         "0.2165839238132532",
         "0.42953307027889986",
         "0.5262756499553076",
         "0.40003989033144827",
         "0.07196097076638215"
        ],
        [
         "190",
         "y_190",
         "0.38660010684542157",
         "0.3103646753102183",
         "0.037857734675213806",
         "0.9456710010229884",
         "0.005426706258352957"
        ],
        [
         "7742",
         "y_7742",
         "0.4049127989921877",
         "0.4424780634941359",
         "0.17241096548325796",
         "0.7859352906177567",
         "0.04500312267363547"
        ],
        [
         "9328",
         "y_9328",
         "0.7298789207126182",
         "0.7247862117070482",
         "0.36923334851445366",
         "0.13567313380957025",
         "0.46212036063996204"
        ],
        [
         "6206",
         "y_6206",
         "0.02762947764087298",
         "0.4717644131661197",
         "0.2215324509806016",
         "0.9686561264290705",
         "0.0030272740146979112"
        ],
        [
         "4789",
         "y_4789",
         "0.0934102806556053",
         "0.5574749914852885",
         "0.7609558493641356",
         "0.9180172223429133",
         "0.040523412207444945"
        ],
        [
         "1106",
         "y_1106",
         "0.7438730087387548",
         "0.8250522507198826",
         "0.8970651515042949",
         "0.5442014049302132",
         "0.5785048455160162"
        ]
       ],
       "shape": {
        "columns": 6,
        "rows": 10
       }
      },
      "text/html": [
       "<div>\n",
       "<style scoped>\n",
       "    .dataframe tbody tr th:only-of-type {\n",
       "        vertical-align: middle;\n",
       "    }\n",
       "\n",
       "    .dataframe tbody tr th {\n",
       "        vertical-align: top;\n",
       "    }\n",
       "\n",
       "    .dataframe thead th {\n",
       "        text-align: right;\n",
       "    }\n",
       "</style>\n",
       "<table border=\"1\" class=\"dataframe\">\n",
       "  <thead>\n",
       "    <tr style=\"text-align: right;\">\n",
       "      <th></th>\n",
       "      <th>y_i</th>\n",
       "      <th>p</th>\n",
       "      <th>alpha</th>\n",
       "      <th>x</th>\n",
       "      <th>sigma</th>\n",
       "      <th>y_i_value</th>\n",
       "    </tr>\n",
       "  </thead>\n",
       "  <tbody>\n",
       "    <tr>\n",
       "      <th>3911</th>\n",
       "      <td>y_3911</td>\n",
       "      <td>0.678487</td>\n",
       "      <td>0.513622</td>\n",
       "      <td>0.583675</td>\n",
       "      <td>0.299464</td>\n",
       "      <td>0.296594</td>\n",
       "    </tr>\n",
       "    <tr>\n",
       "      <th>4053</th>\n",
       "      <td>y_4053</td>\n",
       "      <td>0.680671</td>\n",
       "      <td>0.922831</td>\n",
       "      <td>0.231288</td>\n",
       "      <td>0.402645</td>\n",
       "      <td>0.348368</td>\n",
       "    </tr>\n",
       "    <tr>\n",
       "      <th>2444</th>\n",
       "      <td>y_2444</td>\n",
       "      <td>0.827014</td>\n",
       "      <td>0.550850</td>\n",
       "      <td>0.849525</td>\n",
       "      <td>0.497306</td>\n",
       "      <td>0.420073</td>\n",
       "    </tr>\n",
       "    <tr>\n",
       "      <th>8934</th>\n",
       "      <td>y_8934</td>\n",
       "      <td>0.216584</td>\n",
       "      <td>0.429533</td>\n",
       "      <td>0.526276</td>\n",
       "      <td>0.400040</td>\n",
       "      <td>0.071961</td>\n",
       "    </tr>\n",
       "    <tr>\n",
       "      <th>190</th>\n",
       "      <td>y_190</td>\n",
       "      <td>0.386600</td>\n",
       "      <td>0.310365</td>\n",
       "      <td>0.037858</td>\n",
       "      <td>0.945671</td>\n",
       "      <td>0.005427</td>\n",
       "    </tr>\n",
       "    <tr>\n",
       "      <th>7742</th>\n",
       "      <td>y_7742</td>\n",
       "      <td>0.404913</td>\n",
       "      <td>0.442478</td>\n",
       "      <td>0.172411</td>\n",
       "      <td>0.785935</td>\n",
       "      <td>0.045003</td>\n",
       "    </tr>\n",
       "    <tr>\n",
       "      <th>9328</th>\n",
       "      <td>y_9328</td>\n",
       "      <td>0.729879</td>\n",
       "      <td>0.724786</td>\n",
       "      <td>0.369233</td>\n",
       "      <td>0.135673</td>\n",
       "      <td>0.462120</td>\n",
       "    </tr>\n",
       "    <tr>\n",
       "      <th>6206</th>\n",
       "      <td>y_6206</td>\n",
       "      <td>0.027629</td>\n",
       "      <td>0.471764</td>\n",
       "      <td>0.221532</td>\n",
       "      <td>0.968656</td>\n",
       "      <td>0.003027</td>\n",
       "    </tr>\n",
       "    <tr>\n",
       "      <th>4789</th>\n",
       "      <td>y_4789</td>\n",
       "      <td>0.093410</td>\n",
       "      <td>0.557475</td>\n",
       "      <td>0.760956</td>\n",
       "      <td>0.918017</td>\n",
       "      <td>0.040523</td>\n",
       "    </tr>\n",
       "    <tr>\n",
       "      <th>1106</th>\n",
       "      <td>y_1106</td>\n",
       "      <td>0.743873</td>\n",
       "      <td>0.825052</td>\n",
       "      <td>0.897065</td>\n",
       "      <td>0.544201</td>\n",
       "      <td>0.578505</td>\n",
       "    </tr>\n",
       "  </tbody>\n",
       "</table>\n",
       "</div>"
      ],
      "text/plain": [
       "         y_i         p     alpha         x     sigma  y_i_value\n",
       "3911  y_3911  0.678487  0.513622  0.583675  0.299464   0.296594\n",
       "4053  y_4053  0.680671  0.922831  0.231288  0.402645   0.348368\n",
       "2444  y_2444  0.827014  0.550850  0.849525  0.497306   0.420073\n",
       "8934  y_8934  0.216584  0.429533  0.526276  0.400040   0.071961\n",
       "190    y_190  0.386600  0.310365  0.037858  0.945671   0.005427\n",
       "7742  y_7742  0.404913  0.442478  0.172411  0.785935   0.045003\n",
       "9328  y_9328  0.729879  0.724786  0.369233  0.135673   0.462120\n",
       "6206  y_6206  0.027629  0.471764  0.221532  0.968656   0.003027\n",
       "4789  y_4789  0.093410  0.557475  0.760956  0.918017   0.040523\n",
       "1106  y_1106  0.743873  0.825052  0.897065  0.544201   0.578505"
      ]
     },
     "execution_count": 52,
     "metadata": {},
     "output_type": "execute_result"
    }
   ],
   "source": [
    "# Display some sampled rows.\n",
    "df_problem_1.sample(n=10)"
   ]
  },
  {
   "cell_type": "markdown",
   "id": "048f897a",
   "metadata": {},
   "source": [
    "## Confirm that all 3 calculation procedures produced the same result."
   ]
  },
  {
   "cell_type": "code",
   "execution_count": 53,
   "id": "69abe80b",
   "metadata": {},
   "outputs": [
    {
     "name": "stdout",
     "output_type": "stream",
     "text": [
      "y_1 = 0.173\n",
      "y_2 = 0.173\n",
      "y_3 = 0.173\n"
     ]
    }
   ],
   "source": [
    "print(f\"y_1 = {y_1}\")\n",
    "print(f\"y_2 = {y_2}\")\n",
    "print(f\"y_3 = {y_3}\")\n",
    "assert y_1 == y_2 == y_3, \"The calculations did not all produce the same result.\""
   ]
  },
  {
   "cell_type": "markdown",
   "id": "299b9b72",
   "metadata": {},
   "source": [
    "## 1d. Timing for loop vs vector operations. We know that vector operations are faster."
   ]
  },
  {
   "cell_type": "code",
   "execution_count": 54,
   "id": "71022942",
   "metadata": {},
   "outputs": [
    {
     "name": "stdout",
     "output_type": "stream",
     "text": [
      "Calculating y in a for loop took 0.1009 seconds longer than calculating y using vector operations.\n",
      "The vector operations were 94.0% faster than the loop calculation.\n"
     ]
    }
   ],
   "source": [
    "loop_diff_vector_seconds = np.round((loop_duration_seconds - vector_ops_duration_seconds), 4)\n",
    "print(f\"Calculating y in a for loop took {loop_diff_vector_seconds} seconds longer than calculating y using vector operations.\")\n",
    "# seconds_pct_diff is negative because vector_ops_duration_seconds < loop_duration_seconds\n",
    "# ie the vector operations were faster than the loop calculations.\n",
    "seconds_pct_diff = np.round(np.abs(\n",
    "    ((vector_ops_duration_seconds - loop_duration_seconds) / loop_duration_seconds) * 100\n",
    "    )\n",
    ")\n",
    "print(f\"The vector operations were {seconds_pct_diff}% faster than the loop calculation.\")"
   ]
  },
  {
   "cell_type": "markdown",
   "id": "8d82b2c5",
   "metadata": {},
   "source": [
    "# Problem 2."
   ]
  },
  {
   "cell_type": "markdown",
   "id": "9005f042",
   "metadata": {},
   "source": [
    "## 2a. We are given Equation (1), a non-linear equation for labor supply, and told to convince ourselves it is true."
   ]
  },
  {
   "cell_type": "markdown",
   "id": "b8f01331",
   "metadata": {},
   "source": [
    "## 2b. Define function F for the first order conditions and budget constraint given in Equation (1)."
   ]
  },
  {
   "cell_type": "code",
   "execution_count": 55,
   "id": "21a68cbd",
   "metadata": {},
   "outputs": [],
   "source": [
    "def F(_l: np.ndarray | float,\n",
    "      _W: np.ndarray | float,\n",
    "      _alpha: np.ndarray | float,\n",
    "      _sigma: np.ndarray | float,\n",
    "      _v: np.ndarray | float,\n",
    "      _psi: np.ndarray | float,\n",
    "      _beta: np.ndarray | float,\n",
    "      _r: np.ndarray | float\n",
    "    ) -> np.ndarray | float:\n",
    "    \"\"\"\n",
    "    Non-linear labor supply equation given in Equation (1).\n",
    "    \"\"\"\n",
    "\n",
    "    # The equation requires careful typing, so let's go term by term.\n",
    "    term_1 = _l ** (1 - _alpha)\n",
    "    term_2 = _W\n",
    "    term_3 = (1 / (_l ** ((_v + _alpha) / _sigma)))\n",
    "    term_4 = ((1 - _alpha) / _psi) ** (1 / _sigma)\n",
    "    term_5 = 1 + (((_beta * (1 + _r)) ** (1 / _sigma)) / (1 + _r))\n",
    "    \n",
    "    return term_1 + term_2 - (term_3 * term_4 * term_5)\n"
   ]
  },
  {
   "cell_type": "markdown",
   "id": "a3a59c91",
   "metadata": {},
   "source": [
    "# 2c. Plot the non-linear labor supply for different values of W."
   ]
  },
  {
   "cell_type": "code",
   "execution_count": 93,
   "id": "c84de18d",
   "metadata": {},
   "outputs": [
    {
     "data": {
      "image/png": "[encoded data removed]",
      "text/plain": [
       "<Figure size 1000x500 with 1 Axes>"
      ]
     },
     "metadata": {},
     "output_type": "display_data"
    }
   ],
   "source": [
    "l = np.linspace(start=0.1, stop=1.5, num=200)\n",
    "# W = 1\n",
    "alpha = 0.66\n",
    "v = 1.3\n",
    "sigma = 2\n",
    "psi = 1.5\n",
    "beta = 0.98\n",
    "r = 0.04\n",
    "\n",
    "# We are told to plot 3 values of W, W = 0, 1, 2. Place these ndarrays of labor supply into a list.\n",
    "labor_supply_list = [\n",
    "    F(\n",
    "        _l=l,\n",
    "        _W=w,\n",
    "        _alpha=alpha,\n",
    "        _sigma=sigma,\n",
    "        _v=v,\n",
    "        _psi=psi,\n",
    "        _beta=beta,\n",
    "        _r=r\n",
    "    ) for w in range(0, 3)\n",
    "]\n",
    "\n",
    "plt.figure(figsize=(10,5))\n",
    "for num, ls in enumerate(labor_supply_list):\n",
    "    plt.plot(l, ls, label=f'W = {num}')\n",
    "plt.title(\"Non-linear Labor Supply, per Equation (1)\")\n",
    "plt.xlabel(f\"Labor Effort $l$\")\n",
    "plt.ylabel(f\"F($l$, ...)\")\n",
    "plt.legend()\n",
    "plt.grid(True)\n",
    "# Add the line y = 0.\n",
    "plt.axhline(0, color='black', linestyle='--', linewidth=1)\n",
    "plt.show()"
   ]
  },
  {
   "cell_type": "markdown",
   "id": "605d792c",
   "metadata": {},
   "source": [
    "## Looking back at Equation (1), the code here is the left side of the equation and the right side of the equation is zero. Thus the equilibrium for the plotted curves occurs at y=0, which I added to the plot. Of the three curves, the curve drawn by W=0 intersects the line y=0 at an x value larger than the other two curves. This tells us that the agent will work the most at W=0, and work the least at W=2. More generally, this graph tells us that an agent works less as W increases."
   ]
  },
  {
   "cell_type": "markdown",
   "id": "6f6e2fcf",
   "metadata": {},
   "source": [
    "## 2d. We are given Equation (2), the derivative of Equation (1) with respect to _l_, and told to convince ourselves that it is true."
   ]
  },
  {
   "cell_type": "markdown",
   "id": "12a2af11",
   "metadata": {},
   "source": [
    "# 2e. Define a function to calculate labor supply using Newton's method. The result of this function should solve Equation (1)."
   ]
  },
  {
   "cell_type": "code",
   "execution_count": null,
   "id": "3028fb58",
   "metadata": {},
   "outputs": [],
   "source": []
  },
  {
   "cell_type": "code",
   "execution_count": null,
   "id": "123188cb",
   "metadata": {},
   "outputs": [],
   "source": []
  },
  {
   "cell_type": "code",
   "execution_count": null,
   "id": "a2e2ff4d",
   "metadata": {},
   "outputs": [],
   "source": []
  },
  {
   "cell_type": "code",
   "execution_count": null,
   "id": "76be302b",
   "metadata": {},
   "outputs": [],
   "source": []
  },
  {
   "cell_type": "code",
   "execution_count": null,
   "id": "a0e96df7",
   "metadata": {},
   "outputs": [],
   "source": []
  },
  {
   "cell_type": "code",
   "execution_count": null,
   "id": "a44ebec1",
   "metadata": {},
   "outputs": [],
   "source": []
  },
  {
   "cell_type": "markdown",
   "id": "7343925d",
   "metadata": {},
   "source": [
    "# TODO: Check that the code for Newton's method result actually solves Equation (1)."
   ]
  },
  {
   "cell_type": "markdown",
   "id": "0975ca33",
   "metadata": {},
   "source": []
  }
 ],
 "metadata": {
  "kernelspec": {
   "display_name": "hw_env",
   "language": "python",
   "name": "python3"
  },
  "language_info": {
   "codemirror_mode": {
    "name": "ipython",
    "version": 3
   },
   "file_extension": ".py",
   "mimetype": "text/x-python",
   "name": "python",
   "nbconvert_exporter": "python",
   "pygments_lexer": "ipython3",
   "version": "3.12.9"
  }
 },
 "nbformat": 4,
 "nbformat_minor": 5
}
