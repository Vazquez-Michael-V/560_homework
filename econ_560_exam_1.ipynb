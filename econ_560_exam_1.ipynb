{
 "cells": [
  {
   "cell_type": "markdown",
   "id": "3e05d472",
   "metadata": {},
   "source": [
    "# Imports."
   ]
  },
  {
   "cell_type": "code",
   "execution_count": 256,
   "id": "fe1ba1d0",
   "metadata": {},
   "outputs": [],
   "source": [
    "import pandas as pd\n",
    "import numpy as np\n",
    "\n",
    "import secrets\n",
    "\n",
    "import plotly.graph_objects as go\n",
    "import plotly.io as pio\n",
    "\n",
    "from scipy.optimize import fsolve\n",
    "\n",
    "import os\n",
    "\n",
    "from IPython import get_ipython\n",
    "from IPython.display import Image, display\n",
    "\n",
    "\n",
    "from comp_econ import comp_econ as ce"
   ]
  },
  {
   "cell_type": "markdown",
   "id": "cf8bb71c",
   "metadata": {},
   "source": [
    "# Problem 1."
   ]
  },
  {
   "cell_type": "markdown",
   "id": "1688e51c",
   "metadata": {},
   "source": [
    "## 1a. Function to calculate y using a for loop."
   ]
  },
  {
   "cell_type": "code",
   "execution_count": 257,
   "id": "da8427b8",
   "metadata": {},
   "outputs": [],
   "source": [
    "def y_by_loop(_alpha: np.ndarray, _sigma: np.ndarray, _x: np.ndarray, _p: np.ndarray) -> tuple:\n",
    "    \n",
    "    r\"\"\"\n",
    "    Per the problem instructions, all inputs are supposed to be drawn from a random uniform distribution,\n",
    "    and all input ndarrays must have same length.\n",
    "\n",
    "    Parameters\n",
    "    ----------\n",
    "    _alpha : np.ndarray\n",
    "        ndarray of scalars drawn from random uniform distribution.\n",
    "    _sigma : np.ndarray\n",
    "        ndarray of scalars drawn from random uniform distribution.\n",
    "    _x : np.ndarray\n",
    "        ndarray of scalars drawn from random uniform distribution.\n",
    "    _p : np.ndarray\n",
    "        ndarray of scalars drawn from random uniform distribution.\n",
    "\n",
    "    Returns\n",
    "    -------\n",
    "    3-tuple\n",
    "        A float y_ that is the sum of all y_i's multiplied by (1/ N), where y_i = p_i * alpha_i * (x_i ** sigma_i).\n",
    "\n",
    "        An integer N_, the length each of the input ndarrays.\n",
    "\n",
    "        A float loop_duration_seconds_ that is the number of seconds the function took to run.\n",
    "    \"\"\"\n",
    "\n",
    "    # We are told every input ndarray is of length N, but we are not told to have N as an input parameter.\n",
    "    assert _alpha.shape == _sigma.shape == _x.shape == _p.shape, \"All input ndarray must have same length.\"\n",
    "    # Since all input ndarrays are of same length, pick N = _alpha.shape[0].\n",
    "    N_ = _alpha.shape[0]\n",
    "\n",
    "    # Per the instructions, run the calculation in a loop.\n",
    "    y_results_list = []\n",
    "    loop_start_ts = pd.Timestamp.now()\n",
    "    for i in range(0, N_):\n",
    "        # rng.uniform(...) returns an array of arrays. Using .flatten() here results in a float being\n",
    "        # returned instead of an ndarray.\n",
    "        y_i = _p.flatten()[i] * _alpha.flatten()[i] * (_x.flatten()[i] ** _sigma.flatten()[i])\n",
    "        y_results_list.append(y_i)\n",
    "    loop_completion_ts = pd.Timestamp.now()\n",
    "\n",
    "    loop_duration_seconds_ = (loop_completion_ts - loop_start_ts).total_seconds()\n",
    "\n",
    "    # (1 / N) multiplied by the sum of all y_i's.\n",
    "    y_ = (1 / N_) * sum(y_results_list)\n",
    "    y_ = np.round(y_, 4)\n",
    "\n",
    "\n",
    "\n",
    "    print(f\"Successfully calculated y using a for loop, then rounded to 4 digits:\\n{y_}\")\n",
    "    print(f\"Calculation in a loop took {loop_duration_seconds_} seconds.\")\n",
    "\n",
    "    return y_, N_, loop_duration_seconds_\n"
   ]
  },
  {
   "cell_type": "markdown",
   "id": "32a6e82a",
   "metadata": {},
   "source": [
    "## 1b. Draw from random uniform distribution using seeds for reproducible results, then compute y using y_by_loop(...)."
   ]
  },
  {
   "cell_type": "code",
   "execution_count": 258,
   "id": "e70cba9a",
   "metadata": {},
   "outputs": [
    {
     "name": "stdout",
     "output_type": "stream",
     "text": [
      "seed_alpha: 223033632890419264390639833736888440783\n",
      "seed_sigma: 205932006462777418980820876980130146401\n",
      "seed_x: 292700590553462864305833764075011370226\n",
      "seed_p: 13058703999572845220044003845056428894\n",
      "Performing 4 draws of legnth 10000 from random uniform distribution.\n",
      "Successfully calculated y using a for loop, then rounded to 4 digits:\n",
      "0.1725\n",
      "Calculation in a loop took 0.106075 seconds.\n"
     ]
    }
   ],
   "source": [
    "num_draws = int(1e4)\n",
    "# num_draws = 2\n",
    "\n",
    "# Assign seeds for reproducible results.\n",
    "seed_alpha = secrets.randbits(128)\n",
    "print(f\"seed_alpha: {seed_alpha}\")\n",
    "\n",
    "seed_sigma = secrets.randbits(128) \n",
    "print(f\"seed_sigma: {seed_sigma}\")\n",
    "\n",
    "seed_x = secrets.randbits(128)\n",
    "print(f\"seed_x: {seed_x}\")\n",
    "\n",
    "seed_p = secrets.randbits(128)\n",
    "print(f\"seed_p: {seed_p}\")\n",
    "\n",
    "print(f\"Performing 4 draws of legnth {num_draws} from random uniform distribution.\")\n",
    "# rng = np.random.default_rng()\n",
    "# Numpy docs for seeds of random numbers.\n",
    "# https://numpy.org/doc/2.3/reference/random/index.html#random-quick-start\n",
    "arr_alpha = np.random.default_rng(seed_alpha).uniform(size=(num_draws, 1))\n",
    "arr_sigma = np.random.default_rng(seed_sigma).uniform(size=(num_draws, 1))\n",
    "arr_x = np.random.default_rng(seed_x).uniform(size=(num_draws, 1))\n",
    "arr_p = np.random.default_rng(seed_p).uniform(size=(num_draws, 1))\n",
    "\n",
    "y_1, N, loop_duration_seconds = y_by_loop(_alpha=arr_alpha, _sigma=arr_sigma, _x=arr_x, _p=arr_p)\n"
   ]
  },
  {
   "cell_type": "markdown",
   "id": "115e103f",
   "metadata": {},
   "source": [
    "## 1c. Calculate y using only vector operations."
   ]
  },
  {
   "cell_type": "code",
   "execution_count": 259,
   "id": "2509e988",
   "metadata": {},
   "outputs": [
    {
     "name": "stdout",
     "output_type": "stream",
     "text": [
      "Successfully calculated y using vector operations, then rounded to 4 digits:\n",
      "0.1725\n",
      "Vector operations took 0.007568 seconds.\n"
     ]
    }
   ],
   "source": [
    "# Per the numpy documentation, the np.matrix class is no longer recommended for use. Instead, use regular arrays.\n",
    "# https://numpy.org/doc/stable/reference/generated/numpy.matrix.html\n",
    "# Per the instructions, y_2 is indeed calculated in 1 line using vector operations.\n",
    "vector_ops_start_ts = pd.Timestamp.now()\n",
    "y_2 = np.round(((1 / N) * sum((arr_p * arr_alpha * (arr_x ** arr_sigma)))), 4)[0]\n",
    "vector_ops_completion_ts = pd.Timestamp.now()\n",
    "vector_ops_duration_seconds = (vector_ops_completion_ts - vector_ops_start_ts).total_seconds()\n",
    "\n",
    "print(f\"Successfully calculated y using vector operations, then rounded to 4 digits:\\n{y_2}\")\n",
    "print(f\"Vector operations took {vector_ops_duration_seconds} seconds.\")\n"
   ]
  },
  {
   "cell_type": "markdown",
   "id": "5bb0ce68",
   "metadata": {},
   "source": [
    "## Bonus: Check in a pandas DataFrame."
   ]
  },
  {
   "cell_type": "code",
   "execution_count": 260,
   "id": "187f9eb1",
   "metadata": {},
   "outputs": [
    {
     "name": "stdout",
     "output_type": "stream",
     "text": [
      "df_problem_1 info and shape:\n",
      "<class 'pandas.core.frame.DataFrame'>\n",
      "RangeIndex: 10000 entries, 0 to 9999\n",
      "Data columns (total 6 columns):\n",
      " #   Column     Non-Null Count  Dtype  \n",
      "---  ------     --------------  -----  \n",
      " 0   y_i        10000 non-null  string \n",
      " 1   p          10000 non-null  float64\n",
      " 2   alpha      10000 non-null  float64\n",
      " 3   x          10000 non-null  float64\n",
      " 4   sigma      10000 non-null  float64\n",
      " 5   y_i_value  10000 non-null  float64\n",
      "dtypes: float64(5), string(1)\n",
      "memory usage: 468.9 KB\n",
      "(10000, 6)\n",
      "Successfully calculated y using columns in a pandas DataFrame:\n",
      "0.1725\n"
     ]
    }
   ],
   "source": [
    "df_problem_1 = pd.DataFrame(data={\n",
    "    'y_i': [f'y_{i}' for i in range(0, N)],\n",
    "    'p': arr_p.flatten(),\n",
    "    'alpha': arr_alpha.flatten(),\n",
    "    'x': arr_x.flatten(),\n",
    "    'sigma': arr_sigma.flatten()\n",
    "    }\n",
    ")\n",
    "df_problem_1['y_i'] = df_problem_1['y_i'].astype('string')\n",
    "\n",
    "df_problem_1 = df_problem_1.assign(\n",
    "    y_i_value = df_problem_1['p']\\\n",
    "        .mul(df_problem_1['alpha'], fill_value=np.nan)\\\n",
    "        .mul(\n",
    "            (df_problem_1['x'].pow(df_problem_1['sigma'], fill_value=np.nan)),\n",
    "            fill_value=np.nan\n",
    "        )\n",
    ")\n",
    "\n",
    "print(\"df_problem_1 info and shape:\")\n",
    "df_problem_1.info()\n",
    "print(df_problem_1.shape)\n",
    "\n",
    "y_3 = (1 / N) * (df_problem_1['y_i_value'].sum())\n",
    "y_3 = np.round(y_3, 4)\n",
    "print(f\"Successfully calculated y using columns in a pandas DataFrame:\\n{y_3}\")"
   ]
  },
  {
   "cell_type": "code",
   "execution_count": 261,
   "id": "b3e0ec50",
   "metadata": {},
   "outputs": [
    {
     "data": {
      "application/vnd.microsoft.datawrangler.viewer.v0+json": {
       "columns": [
        {
         "name": "index",
         "rawType": "int64",
         "type": "integer"
        },
        {
         "name": "y_i",
         "rawType": "string",
         "type": "string"
        },
        {
         "name": "p",
         "rawType": "float64",
         "type": "float"
        },
        {
         "name": "alpha",
         "rawType": "float64",
         "type": "float"
        },
        {
         "name": "x",
         "rawType": "float64",
         "type": "float"
        },
        {
         "name": "sigma",
         "rawType": "float64",
         "type": "float"
        },
        {
         "name": "y_i_value",
         "rawType": "float64",
         "type": "float"
        }
       ],
       "ref": "4d8cffaa-c8f7-4192-a322-dcf6504e0d8f",
       "rows": [
        [
         "4384",
         "y_4384",
         "0.9190776391984498",
         "0.22821741495541414",
         "0.6922073641258047",
         "0.07286674302785578",
         "0.20420177608453474"
        ],
        [
         "244",
         "y_244",
         "0.3855737857882465",
         "0.8398516344498473",
         "0.9658423016997847",
         "0.5685450644616892",
         "0.31748892380241694"
        ],
        [
         "7686",
         "y_7686",
         "0.686826300496651",
         "0.5861745363739232",
         "0.5093034853234896",
         "0.4770443720799705",
         "0.2918023095399788"
        ],
        [
         "3687",
         "y_3687",
         "0.24030097319560162",
         "0.6384561699366357",
         "0.7645071870948221",
         "0.8400324309819208",
         "0.1224400101206483"
        ],
        [
         "358",
         "y_358",
         "0.9926186240370051",
         "0.6640552798363536",
         "0.08647249730098738",
         "0.6956968045803724",
         "0.12005384564185356"
        ],
        [
         "4533",
         "y_4533",
         "0.8956846455273555",
         "0.603154067850287",
         "0.4088874662386345",
         "0.14664997698052384",
         "0.47383277374543625"
        ],
        [
         "2442",
         "y_2442",
         "0.44315233161263845",
         "0.1707796823576414",
         "0.3645054903393382",
         "0.11927298143884635",
         "0.06709843306276031"
        ],
        [
         "9383",
         "y_9383",
         "0.5985211653283237",
         "0.43329587864040653",
         "0.9051624896859434",
         "0.42326506051008184",
         "0.24862679459324527"
        ],
        [
         "6835",
         "y_6835",
         "0.8950948647635573",
         "0.21893211374256727",
         "0.1671208629351082",
         "0.713592202658831",
         "0.05466876709642597"
        ],
        [
         "4629",
         "y_4629",
         "0.17273739055923432",
         "0.8851250443818389",
         "0.026982234641278358",
         "0.23698663418533517",
         "0.0649497403976519"
        ]
       ],
       "shape": {
        "columns": 6,
        "rows": 10
       }
      },
      "text/html": [
       "<div>\n",
       "<style scoped>\n",
       "    .dataframe tbody tr th:only-of-type {\n",
       "        vertical-align: middle;\n",
       "    }\n",
       "\n",
       "    .dataframe tbody tr th {\n",
       "        vertical-align: top;\n",
       "    }\n",
       "\n",
       "    .dataframe thead th {\n",
       "        text-align: right;\n",
       "    }\n",
       "</style>\n",
       "<table border=\"1\" class=\"dataframe\">\n",
       "  <thead>\n",
       "    <tr style=\"text-align: right;\">\n",
       "      <th></th>\n",
       "      <th>y_i</th>\n",
       "      <th>p</th>\n",
       "      <th>alpha</th>\n",
       "      <th>x</th>\n",
       "      <th>sigma</th>\n",
       "      <th>y_i_value</th>\n",
       "    </tr>\n",
       "  </thead>\n",
       "  <tbody>\n",
       "    <tr>\n",
       "      <th>4384</th>\n",
       "      <td>y_4384</td>\n",
       "      <td>0.919078</td>\n",
       "      <td>0.228217</td>\n",
       "      <td>0.692207</td>\n",
       "      <td>0.072867</td>\n",
       "      <td>0.204202</td>\n",
       "    </tr>\n",
       "    <tr>\n",
       "      <th>244</th>\n",
       "      <td>y_244</td>\n",
       "      <td>0.385574</td>\n",
       "      <td>0.839852</td>\n",
       "      <td>0.965842</td>\n",
       "      <td>0.568545</td>\n",
       "      <td>0.317489</td>\n",
       "    </tr>\n",
       "    <tr>\n",
       "      <th>7686</th>\n",
       "      <td>y_7686</td>\n",
       "      <td>0.686826</td>\n",
       "      <td>0.586175</td>\n",
       "      <td>0.509303</td>\n",
       "      <td>0.477044</td>\n",
       "      <td>0.291802</td>\n",
       "    </tr>\n",
       "    <tr>\n",
       "      <th>3687</th>\n",
       "      <td>y_3687</td>\n",
       "      <td>0.240301</td>\n",
       "      <td>0.638456</td>\n",
       "      <td>0.764507</td>\n",
       "      <td>0.840032</td>\n",
       "      <td>0.122440</td>\n",
       "    </tr>\n",
       "    <tr>\n",
       "      <th>358</th>\n",
       "      <td>y_358</td>\n",
       "      <td>0.992619</td>\n",
       "      <td>0.664055</td>\n",
       "      <td>0.086472</td>\n",
       "      <td>0.695697</td>\n",
       "      <td>0.120054</td>\n",
       "    </tr>\n",
       "    <tr>\n",
       "      <th>4533</th>\n",
       "      <td>y_4533</td>\n",
       "      <td>0.895685</td>\n",
       "      <td>0.603154</td>\n",
       "      <td>0.408887</td>\n",
       "      <td>0.146650</td>\n",
       "      <td>0.473833</td>\n",
       "    </tr>\n",
       "    <tr>\n",
       "      <th>2442</th>\n",
       "      <td>y_2442</td>\n",
       "      <td>0.443152</td>\n",
       "      <td>0.170780</td>\n",
       "      <td>0.364505</td>\n",
       "      <td>0.119273</td>\n",
       "      <td>0.067098</td>\n",
       "    </tr>\n",
       "    <tr>\n",
       "      <th>9383</th>\n",
       "      <td>y_9383</td>\n",
       "      <td>0.598521</td>\n",
       "      <td>0.433296</td>\n",
       "      <td>0.905162</td>\n",
       "      <td>0.423265</td>\n",
       "      <td>0.248627</td>\n",
       "    </tr>\n",
       "    <tr>\n",
       "      <th>6835</th>\n",
       "      <td>y_6835</td>\n",
       "      <td>0.895095</td>\n",
       "      <td>0.218932</td>\n",
       "      <td>0.167121</td>\n",
       "      <td>0.713592</td>\n",
       "      <td>0.054669</td>\n",
       "    </tr>\n",
       "    <tr>\n",
       "      <th>4629</th>\n",
       "      <td>y_4629</td>\n",
       "      <td>0.172737</td>\n",
       "      <td>0.885125</td>\n",
       "      <td>0.026982</td>\n",
       "      <td>0.236987</td>\n",
       "      <td>0.064950</td>\n",
       "    </tr>\n",
       "  </tbody>\n",
       "</table>\n",
       "</div>"
      ],
      "text/plain": [
       "         y_i         p     alpha         x     sigma  y_i_value\n",
       "4384  y_4384  0.919078  0.228217  0.692207  0.072867   0.204202\n",
       "244    y_244  0.385574  0.839852  0.965842  0.568545   0.317489\n",
       "7686  y_7686  0.686826  0.586175  0.509303  0.477044   0.291802\n",
       "3687  y_3687  0.240301  0.638456  0.764507  0.840032   0.122440\n",
       "358    y_358  0.992619  0.664055  0.086472  0.695697   0.120054\n",
       "4533  y_4533  0.895685  0.603154  0.408887  0.146650   0.473833\n",
       "2442  y_2442  0.443152  0.170780  0.364505  0.119273   0.067098\n",
       "9383  y_9383  0.598521  0.433296  0.905162  0.423265   0.248627\n",
       "6835  y_6835  0.895095  0.218932  0.167121  0.713592   0.054669\n",
       "4629  y_4629  0.172737  0.885125  0.026982  0.236987   0.064950"
      ]
     },
     "execution_count": 261,
     "metadata": {},
     "output_type": "execute_result"
    }
   ],
   "source": [
    "# Display some sampled rows.\n",
    "df_problem_1.sample(n=10)"
   ]
  },
  {
   "cell_type": "markdown",
   "id": "048f897a",
   "metadata": {},
   "source": [
    "## Confirm that all 3 calculation procedures produced the same result."
   ]
  },
  {
   "cell_type": "code",
   "execution_count": 262,
   "id": "69abe80b",
   "metadata": {},
   "outputs": [
    {
     "name": "stdout",
     "output_type": "stream",
     "text": [
      "y_1 = 0.1725\n",
      "y_2 = 0.1725\n",
      "y_3 = 0.1725\n"
     ]
    }
   ],
   "source": [
    "print(f\"y_1 = {y_1}\")\n",
    "print(f\"y_2 = {y_2}\")\n",
    "print(f\"y_3 = {y_3}\")\n",
    "assert y_1 == y_2 == y_3, \"The calculations did not all produce the same result.\""
   ]
  },
  {
   "cell_type": "markdown",
   "id": "299b9b72",
   "metadata": {},
   "source": [
    "## 1d. Timing for loop vs vector operations. We know that vector operations are faster."
   ]
  },
  {
   "cell_type": "code",
   "execution_count": 265,
   "id": "71022942",
   "metadata": {},
   "outputs": [
    {
     "name": "stdout",
     "output_type": "stream",
     "text": [
      "Calculating y in a for loop took 0.0985 seconds longer than calculating y using vector operations.\n",
      "The vector operations were 93.0% faster than the loop calculation.\n"
     ]
    }
   ],
   "source": [
    "loop_diff_vector_seconds = np.round((loop_duration_seconds - vector_ops_duration_seconds), 4)\n",
    "print(f\"Calculating y in a for loop took {loop_diff_vector_seconds} seconds longer than calculating y using vector operations.\")\n",
    "# seconds_pct_diff is negative because vector_ops_duration_seconds < loop_duration_seconds\n",
    "# ie the vector operations were faster than the loop calculations.\n",
    "seconds_pct_diff = np.round(np.abs(\n",
    "    ((vector_ops_duration_seconds - loop_duration_seconds) / loop_duration_seconds) * 100\n",
    "    )\n",
    ")\n",
    "print(f\"The vector operations were {seconds_pct_diff}% faster than the loop calculation.\")"
   ]
  },
  {
   "cell_type": "markdown",
   "id": "8d82b2c5",
   "metadata": {},
   "source": [
    "# Problem 2."
   ]
  },
  {
   "cell_type": "markdown",
   "id": "9005f042",
   "metadata": {},
   "source": [
    "# 2a."
   ]
  },
  {
   "cell_type": "code",
   "execution_count": null,
   "id": "21a68cbd",
   "metadata": {},
   "outputs": [],
   "source": []
  }
 ],
 "metadata": {
  "kernelspec": {
   "display_name": "hw_env",
   "language": "python",
   "name": "python3"
  },
  "language_info": {
   "codemirror_mode": {
    "name": "ipython",
    "version": 3
   },
   "file_extension": ".py",
   "mimetype": "text/x-python",
   "name": "python",
   "nbconvert_exporter": "python",
   "pygments_lexer": "ipython3",
   "version": "3.12.9"
  }
 },
 "nbformat": 4,
 "nbformat_minor": 5
}
