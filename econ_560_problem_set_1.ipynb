{
 "cells": [
  {
   "cell_type": "markdown",
   "id": "5294d401",
   "metadata": {},
   "source": [
    "# Imports."
   ]
  },
  {
   "cell_type": "code",
   "execution_count": 190,
   "id": "5b50063c",
   "metadata": {},
   "outputs": [],
   "source": [
    "import pandas as pd\n",
    "import numpy as np"
   ]
  },
  {
   "cell_type": "markdown",
   "id": "ec7d79e9",
   "metadata": {},
   "source": [
    "# Problem 1"
   ]
  },
  {
   "cell_type": "markdown",
   "id": "8e4384f0",
   "metadata": {},
   "source": [
    "## 1a. Create matrix A."
   ]
  },
  {
   "cell_type": "code",
   "execution_count": 191,
   "id": "35f43051",
   "metadata": {},
   "outputs": [
    {
     "name": "stdout",
     "output_type": "stream",
     "text": [
      "Matrix A:\n",
      "   0  1  2  3\n",
      "0  2  5  4  1\n",
      "1  3  6  1  2\n",
      "2  1  3  8  9\n"
     ]
    }
   ],
   "source": [
    "df_a = pd.DataFrame(\n",
    "    [[2, 5, 4, 1],\n",
    "     [3, 6, 1, 2],\n",
    "     [1, 3, 8, 9]\n",
    "     ]\n",
    "    )\n",
    "print(f\"Matrix A:\\n{df_a}\")"
   ]
  },
  {
   "cell_type": "markdown",
   "id": "7f0b4802",
   "metadata": {},
   "source": [
    "## 1b. Row vector."
   ]
  },
  {
   "cell_type": "code",
   "execution_count": 192,
   "id": "f1657890",
   "metadata": {},
   "outputs": [
    {
     "name": "stdout",
     "output_type": "stream",
     "text": [
      "Row vector v:\n",
      "   0  1  2\n",
      "2  4  1  8\n"
     ]
    }
   ],
   "source": [
    "# Select the 3rd column, then transpose because we want a row vector.\n",
    "df_v = df_a.iloc[:, [2]].T\n",
    "print(f\"Row vector v:\\n{df_v}\")"
   ]
  },
  {
   "cell_type": "markdown",
   "id": "971a136d",
   "metadata": {},
   "source": [
    "## 1c. Square the elements of A."
   ]
  },
  {
   "cell_type": "code",
   "execution_count": 193,
   "id": "331e5a56",
   "metadata": {},
   "outputs": [
    {
     "name": "stdout",
     "output_type": "stream",
     "text": [
      "Matrix B:\n",
      "   0   1   2   3\n",
      "0  4  25  16   1\n",
      "1  9  36   1   4\n",
      "2  1   9  64  81\n"
     ]
    }
   ],
   "source": [
    "df_b = df_a.copy().pow(2)\n",
    "print(f\"Matrix B:\\n{df_b}\")"
   ]
  },
  {
   "cell_type": "markdown",
   "id": "3d07e548",
   "metadata": {},
   "source": [
    "## 1d. Boolean indexing and broadcasting."
   ]
  },
  {
   "cell_type": "code",
   "execution_count": 194,
   "id": "63d24047",
   "metadata": {},
   "outputs": [
    {
     "name": "stdout",
     "output_type": "stream",
     "text": [
      "       0      1      2      3\n",
      "0  False  False  False  False\n",
      "1  False   True  False  False\n",
      "2  False  False   True   True\n",
      "   0  1  2  3\n",
      "0  2  5  4  1\n",
      "1  3  0  1  2\n",
      "2  1  3  0  0\n"
     ]
    }
   ],
   "source": [
    "# A(A > 5) = 0 will in matrix A set all values > 5 to 0.\n",
    "\n",
    "mask = (df_a > 5)\n",
    "# Print the mask to make it clear what is happening.\n",
    "print(mask)\n",
    "\n",
    "df_a[df_a > 5] = 0\n",
    "print(df_a)"
   ]
  },
  {
   "cell_type": "markdown",
   "id": "1b170ef2",
   "metadata": {},
   "source": [
    "# Problem 2. While loop."
   ]
  },
  {
   "cell_type": "code",
   "execution_count": 195,
   "id": "b548c601",
   "metadata": {},
   "outputs": [
    {
     "name": "stdout",
     "output_type": "stream",
     "text": [
      "5\n",
      "10\n",
      "15\n",
      "20\n",
      "25\n"
     ]
    }
   ],
   "source": [
    "\n",
    "start = 5\n",
    "stop = 26\n",
    "while start < stop:\n",
    "    print(start)\n",
    "    start += 5"
   ]
  },
  {
   "cell_type": "markdown",
   "id": "92d5f2c4",
   "metadata": {},
   "source": [
    "# Problem 3. For loop."
   ]
  },
  {
   "cell_type": "code",
   "execution_count": 196,
   "id": "e0d362cb",
   "metadata": {},
   "outputs": [
    {
     "name": "stdout",
     "output_type": "stream",
     "text": [
      "5\n",
      "10\n",
      "15\n",
      "20\n",
      "25\n"
     ]
    }
   ],
   "source": [
    "for num in range(5, 26, 5):\n",
    "    print(num)"
   ]
  },
  {
   "cell_type": "markdown",
   "id": "daab84af",
   "metadata": {},
   "source": [
    "# Problem 4."
   ]
  },
  {
   "cell_type": "markdown",
   "id": "8b273a1c",
   "metadata": {},
   "source": [
    "## 4a. Sign of an input number."
   ]
  },
  {
   "cell_type": "code",
   "execution_count": 197,
   "id": "5787800b",
   "metadata": {},
   "outputs": [],
   "source": [
    "def tellsign(x: float) -> str:\n",
    "    if x < 0:\n",
    "        return \"Negative\"\n",
    "    elif x > 0:\n",
    "        return \"Positive\"\n",
    "    else:\n",
    "        return \"Zero\""
   ]
  },
  {
   "cell_type": "code",
   "execution_count": 198,
   "id": "0dcffb6d",
   "metadata": {},
   "outputs": [
    {
     "name": "stdout",
     "output_type": "stream",
     "text": [
      "22 is Positive.\n",
      "-44 is Negative.\n",
      "15 is Positive.\n",
      "25 is Positive.\n",
      "47 is Positive.\n",
      "-29 is Negative.\n",
      "-22 is Negative.\n",
      "33 is Positive.\n",
      "-49 is Negative.\n",
      "-34 is Negative.\n",
      "0 is Zero.\n"
     ]
    }
   ],
   "source": [
    "arr_random_ints = np.random.choice(\n",
    "    a=np.arange(-50, 50),\n",
    "    size=10,\n",
    "    replace=False\n",
    ")\n",
    "# Could write some unittests but its enough to just test a few values.\n",
    "# Ensure 0 is in the sample to test the \"Zero\" return string.\n",
    "arr_random_ints = np.append(arr_random_ints, 0)\n",
    "for num in arr_random_ints:\n",
    "    num_sign = tellsign(num)\n",
    "    print(f\"{num} is {num_sign}.\")"
   ]
  },
  {
   "cell_type": "markdown",
   "id": "70a8e824",
   "metadata": {},
   "source": [
    "## 4b. Sign of elements of an input matrix."
   ]
  },
  {
   "cell_type": "code",
   "execution_count": 199,
   "id": "d26a8a69",
   "metadata": {},
   "outputs": [],
   "source": [
    "def tellsign_2(_df: pd.DataFrame) -> pd.DataFrame:\n",
    "    _df = np.sign(_df)\n",
    "    _df = _df.replace(to_replace={\n",
    "        1: \"Positive\",\n",
    "        -1: \"Negative\",\n",
    "        0: \"Zero\"\n",
    "    })\n",
    "\n",
    "    return _df"
   ]
  },
  {
   "cell_type": "code",
   "execution_count": 200,
   "id": "0ae23a9e",
   "metadata": {},
   "outputs": [
    {
     "name": "stdout",
     "output_type": "stream",
     "text": [
      "    0   1\n",
      "0 -20  11\n",
      "1  -8 -33\n",
      "          0         1\n",
      "0  Negative  Positive\n",
      "1  Negative  Negative\n",
      "\n",
      "    0   1\n",
      "0 -45 -39\n",
      "1  10   7\n",
      "          0         1\n",
      "0  Negative  Negative\n",
      "1  Positive  Positive\n",
      "\n",
      "    0   1\n",
      "0  18 -14\n",
      "1 -47 -19\n",
      "          0         1\n",
      "0  Positive  Negative\n",
      "1  Negative  Negative\n",
      "\n",
      "    0  1\n",
      "0  20  0\n",
      "1 -29  1\n",
      "          0         1\n",
      "0  Positive      Zero\n",
      "1  Negative  Positive\n",
      "\n",
      "     0    1\n",
      "0  0.0  0.0\n",
      "1  0.0  0.0\n",
      "      0     1\n",
      "0  Zero  Zero\n",
      "1  Zero  Zero\n",
      "\n"
     ]
    }
   ],
   "source": [
    "# Test with some 2x2 matrices.\n",
    "test_matrices_list = []\n",
    "for i in range(1,5):\n",
    "    df_test = pd.DataFrame(\n",
    "        np.random.choice(\n",
    "            a=np.arange(-50, 50),\n",
    "            size=4,\n",
    "            replace=False\n",
    "            ).reshape(2,2)\n",
    "        )\n",
    "    test_matrices_list.append(df_test)\n",
    "# Ensure the \"Zero\" string gets tested.\n",
    "test_matrices_list += [pd.DataFrame(np.zeros(shape=(2,2)))]\n",
    "\n",
    "for df in test_matrices_list:\n",
    "    print(df)\n",
    "    df_sign = tellsign_2(df)\n",
    "    print(df_sign)\n",
    "    print()\n"
   ]
  },
  {
   "cell_type": "markdown",
   "id": "d5433e8d",
   "metadata": {},
   "source": [
    "# Problem 5"
   ]
  },
  {
   "cell_type": "code",
   "execution_count": 201,
   "id": "183e63ab",
   "metadata": {},
   "outputs": [],
   "source": [
    "def conditional_sum(_df: pd.DataFrame) -> np.int64:\n",
    "\n",
    "    print(f\"_df.shape: {_df.shape}\")\n",
    "    # This checks that we are essentially working with an nx1 vector.\n",
    "    assert _df.shape[1] == 1\n",
    "\n",
    "    entry_01 = _df.iloc[0, 0]\n",
    "    assert entry_01 == 1, f\"The first element of the input vector must be 1, found {entry_01}.\"\n",
    "\n",
    "    # We want to sum all the values that are less than or equal to 10.\n",
    "    # Notice this is the same as replacing all values that are greater than 10 with 0, then taking the sum.\n",
    "\n",
    "    _df[(_df > 10)] = 0\n",
    "\n",
    "    return _df.sum().iloc[0]\n",
    "\n",
    "\n"
   ]
  },
  {
   "cell_type": "code",
   "execution_count": 202,
   "id": "d04778ed",
   "metadata": {},
   "outputs": [
    {
     "name": "stdout",
     "output_type": "stream",
     "text": [
      "    1\n",
      "0  11\n",
      "1 -33\n",
      "_df.shape: (2, 1)\n",
      "The first element of the input vector must be 1, found 11.\n",
      "    1\n",
      "0 -39\n",
      "1   7\n",
      "_df.shape: (2, 1)\n",
      "The first element of the input vector must be 1, found -39.\n",
      "    1\n",
      "0 -14\n",
      "1 -19\n",
      "_df.shape: (2, 1)\n",
      "The first element of the input vector must be 1, found -14.\n",
      "   1\n",
      "0  0\n",
      "1  1\n",
      "_df.shape: (2, 1)\n",
      "The first element of the input vector must be 1, found 0.\n",
      "     1\n",
      "0  0.0\n",
      "1  0.0\n",
      "_df.shape: (2, 1)\n",
      "The first element of the input vector must be 1, found 0.0.\n",
      "     1\n",
      "0  1.0\n",
      "1  1.0\n",
      "_df.shape: (2, 1)\n",
      "The sum is 2.0.\n"
     ]
    }
   ],
   "source": [
    "# Let's use the same test_matrices_list from before to test the function,\n",
    "# taking the first column of each matrix.\n",
    "# Ensure at least one DataFrame has 1 at the first entry.\n",
    "test_matrices_list += [pd.DataFrame(np.ones(shape=(2,2)))]\n",
    "for df in test_matrices_list:\n",
    "    v = df.iloc[:, [1]].copy()\n",
    "    print(v)\n",
    "    try:\n",
    "        c = conditional_sum(v)\n",
    "    except AssertionError as e:\n",
    "        print(e)\n",
    "    else:\n",
    "        print(f\"The sum is {c}.\")"
   ]
  },
  {
   "cell_type": "code",
   "execution_count": null,
   "id": "80ca452b",
   "metadata": {},
   "outputs": [],
   "source": []
  }
 ],
 "metadata": {
  "kernelspec": {
   "display_name": "geo_env",
   "language": "python",
   "name": "python3"
  },
  "language_info": {
   "codemirror_mode": {
    "name": "ipython",
    "version": 3
   },
   "file_extension": ".py",
   "mimetype": "text/x-python",
   "name": "python",
   "nbconvert_exporter": "python",
   "pygments_lexer": "ipython3",
   "version": "3.12.9"
  }
 },
 "nbformat": 4,
 "nbformat_minor": 5
}
