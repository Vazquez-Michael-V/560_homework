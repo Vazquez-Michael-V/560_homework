{
 "cells": [
  {
   "cell_type": "markdown",
   "id": "320c6c42",
   "metadata": {},
   "source": [
    "# Imports."
   ]
  },
  {
   "cell_type": "code",
   "execution_count": 141,
   "id": "91f281c5",
   "metadata": {},
   "outputs": [],
   "source": [
    "import pandas as pd\n",
    "import numpy as np\n",
    "import scipy\n",
    "\n",
    "from IPython import get_ipython\n",
    "\n",
    "from comp_econ import comp_econ as ce\n"
   ]
  },
  {
   "cell_type": "markdown",
   "id": "fa04afd8",
   "metadata": {},
   "source": [
    "# Problem 1"
   ]
  },
  {
   "cell_type": "markdown",
   "id": "c6f9d06f",
   "metadata": {},
   "source": [
    "## Define A and b per the Miranda and Fackler textbook."
   ]
  },
  {
   "cell_type": "code",
   "execution_count": 142,
   "id": "3d1913bd",
   "metadata": {},
   "outputs": [
    {
     "name": "stdout",
     "output_type": "stream",
     "text": [
      "Matrix A:\n",
      "[[ 54  14 -11   2]\n",
      " [ 14  50  -4  29]\n",
      " [-11  -4  55  22]\n",
      " [  2  29  22  95]]\n",
      "\n",
      "Vector b:\n",
      "[[1.]\n",
      " [1.]\n",
      " [1.]\n",
      " [1.]]\n"
     ]
    }
   ],
   "source": [
    "A = np.matrix([\n",
    "    [54, 14, -11, 2],\n",
    "    [14, 50, -4, 29],\n",
    "    [-11, -4, 55, 22],\n",
    "    [2, 29, 22, 95]\n",
    "])\n",
    "print(\"Matrix A:\")\n",
    "print(A)\n",
    "\n",
    "b = np.matrix(np.ones(shape=(A.shape[0], 1)))\n",
    "print(\"\\nVector b:\")\n",
    "print(b)\n",
    "\n"
   ]
  },
  {
   "cell_type": "markdown",
   "id": "2f3dec4c",
   "metadata": {},
   "source": [
    "## 1a. Solve for x using LU Decomposition."
   ]
  },
  {
   "cell_type": "code",
   "execution_count": 143,
   "id": "92ece60e",
   "metadata": {},
   "outputs": [
    {
     "name": "stdout",
     "output_type": "stream",
     "text": [
      "Running LU Decomposition method.\n",
      "Vector x_lu:\n",
      "[[ 0.0189]\n",
      " [ 0.0168]\n",
      " [ 0.0234]\n",
      " [-0.0004]]\n"
     ]
    }
   ],
   "source": [
    "# https://docs.scipy.org/doc/scipy/reference/generated/scipy.linalg.lu.html\n",
    "\n",
    "print(\"Running LU Decomposition method.\")\n",
    "P, L, U = scipy.linalg.lu(A)\n",
    "assert np.allclose(A, (P @ L @ U)), \"Check LU decomposition.\"\n",
    "\n",
    "# Ax = b\n",
    "# A = LU, or very close to A.\n",
    "# --> LUx = b\n",
    "# --> x = (LU)^-1 * b\n",
    "LU_inv = scipy.linalg.inv((L @ U))\n",
    "x_lu = (LU_inv @ b).round(4)\n",
    "print(\"Vector x_lu:\")\n",
    "print(x_lu)"
   ]
  },
  {
   "cell_type": "markdown",
   "id": "da67f839",
   "metadata": {},
   "source": [
    "## 1b. and 1c. Solve for x using both Gauss-Jacobi and Gauss-Seidel methods."
   ]
  },
  {
   "cell_type": "code",
   "execution_count": 144,
   "id": "caec90ee",
   "metadata": {},
   "outputs": [
    {
     "name": "stdout",
     "output_type": "stream",
     "text": [
      "Running Gauss-Jacobi method.\n",
      "Gauss-Jacobi method converged in 18 iterations.\n",
      "Vector x_gj:\n",
      "[[ 0.0189]\n",
      " [ 0.0168]\n",
      " [ 0.0234]\n",
      " [-0.0004]]\n",
      "\n",
      "Running Gauss-Seidel method.\n",
      "Gauss-Seidel method converged in 9 iterations.\n",
      "Vector x_gs:\n",
      "[[ 0.0189]\n",
      " [ 0.0168]\n",
      " [ 0.0234]\n",
      " [-0.0004]]\n"
     ]
    }
   ],
   "source": [
    "print(\"Running Gauss-Jacobi method.\")\n",
    "x_gj, num_iter_gj = ce.gjacobi(A, b, np.zeros(shape=(4, 1)))\n",
    "x_gj = x_gj.round(4)\n",
    "print(\"Vector x_gj:\")\n",
    "print(x_gj)\n",
    "\n",
    "print(\"\\nRunning Gauss-Seidel method.\")\n",
    "x_gs, num_iter_gs = ce.gseidel(A, b, np.zeros(shape=(4, 1)))\n",
    "x_gs = x_gs.round(4)\n",
    "print(\"Vector x_gs:\")\n",
    "print(x_gs)"
   ]
  },
  {
   "cell_type": "markdown",
   "id": "c1c08e0e",
   "metadata": {},
   "source": [
    "## Check the answers of all 3 methods."
   ]
  },
  {
   "cell_type": "code",
   "execution_count": 145,
   "id": "e9121270",
   "metadata": {},
   "outputs": [],
   "source": [
    "# x_lu ~ x_gj and x_gj ~ x_gs --> x_lu ~ x_gs, by transitivity.\n",
    "assert np.allclose(x_lu, x_gj) and np.allclose(x_gj, x_gs), \"Solution vectors should all be approximately equal.\""
   ]
  },
  {
   "cell_type": "markdown",
   "id": "8399b178",
   "metadata": {},
   "source": [
    "# Problem 2. The magic command %timeit includes more information than MATLAB's tic tok."
   ]
  },
  {
   "cell_type": "markdown",
   "id": "74353fe2",
   "metadata": {},
   "source": [
    "## Define A, A_inv, and b for problem 2."
   ]
  },
  {
   "cell_type": "code",
   "execution_count": 146,
   "id": "0d28367c",
   "metadata": {},
   "outputs": [],
   "source": [
    "# https://numpy.org/doc/stable/reference/random/generated/numpy.random.standard_normal.html\n",
    "# https://numpy.org/doc/stable/reference/random/index.html#random-quick-start\n",
    "\n",
    "rng = np.random.default_rng()\n",
    "A = np.matrix(\n",
    "    rng.standard_normal(size=(100, 100))\n",
    ")\n",
    "A_inv = np.linalg.inv(A)\n",
    "b = np.matrix(\n",
    "    rng.standard_normal(size=(100, 1))\n",
    ")\n",
    "\n",
    "# Per the question instructions, perform runs of 1, 10, and 50. By default, %timeit performs 7 runs.\n",
    "runs_list = [1, 10, 50]"
   ]
  },
  {
   "cell_type": "markdown",
   "id": "deaca808",
   "metadata": {},
   "source": [
    "## 2a. x = A\\b is equivelent to np.linalg.solve()."
   ]
  },
  {
   "cell_type": "code",
   "execution_count": 147,
   "id": "556d7a1c",
   "metadata": {},
   "outputs": [
    {
     "name": "stdout",
     "output_type": "stream",
     "text": [
      "Solving for x using np.linalg.solve().\n",
      "106 μs ± 0 ns per loop (mean ± std. dev. of 1 run, 1,000 loops each)\n",
      "80.4 μs ± 4.24 μs per loop (mean ± std. dev. of 10 runs, 1,000 loops each)\n",
      "80.7 μs ± 3.16 μs per loop (mean ± std. dev. of 50 runs, 1,000 loops each)\n",
      "Run times for x = A\\b in have been printed.\n"
     ]
    }
   ],
   "source": [
    "print(\"Solving for x using np.linalg.solve().\")\n",
    "for run_num in runs_list:\n",
    "    get_ipython().run_line_magic(\"timeit\", f\"-n 1000 -r {run_num} x = np.linalg.solve(a=A, b=b)\")\n",
    "# Assign the result to x_solve to indicate it was found via np.linalg.solve().\n",
    "x_solve = np.linalg.solve(a=A, b=b)\n",
    "# Per the documention, check the solution.\n",
    "assert np.allclose(np.dot(A, x_solve), b), \"x_solve is not close to b.\"\n",
    "print(\"Run times for x = A\\\\b in have been printed.\")"
   ]
  },
  {
   "cell_type": "markdown",
   "id": "a31816a3",
   "metadata": {},
   "source": [
    "## 2b. PLU decomposition."
   ]
  },
  {
   "cell_type": "code",
   "execution_count": 148,
   "id": "e6e38da0",
   "metadata": {},
   "outputs": [
    {
     "name": "stdout",
     "output_type": "stream",
     "text": [
      "Solving for x using PLU decomposition.\n",
      "7.56 μs ± 0 ns per loop (mean ± std. dev. of 1 run, 1,000 loops each)\n",
      "9.16 μs ± 1.85 μs per loop (mean ± std. dev. of 10 runs, 1,000 loops each)\n",
      "5.48 μs ± 1.17 μs per loop (mean ± std. dev. of 50 runs, 1,000 loops each)\n",
      "Run times for PLU decomposition have been printed.\n"
     ]
    }
   ],
   "source": [
    "print(\"Solving for x using PLU decomposition.\")\n",
    "P, L, U = scipy.linalg.lu(A)\n",
    "PLU_inv = scipy.linalg.inv((P @ L @ U))\n",
    "for run_num in runs_list:\n",
    "    get_ipython().run_line_magic(\"timeit\", f\"-n 1000 -r {run_num} x_plu = (PLU_inv @ b)\")\n",
    "# Assign the result to x_plu to indicate it was found via PLU decomposition.\n",
    "x_plu = (PLU_inv @ b)\n",
    "assert np.allclose(A, (P @ L @ U)), \"Issue with PLU decomposition.\"\n",
    "assert np.allclose(np.dot(A, x_plu), b), \"x_plu is not close to b.\"\n",
    "print(\"Run times for PLU decomposition have been printed.\")"
   ]
  },
  {
   "cell_type": "markdown",
   "id": "0b34175a",
   "metadata": {},
   "source": [
    "## 2c. x = A_inv @ b"
   ]
  },
  {
   "cell_type": "code",
   "execution_count": 149,
   "id": "518dd444",
   "metadata": {},
   "outputs": [
    {
     "name": "stdout",
     "output_type": "stream",
     "text": [
      "Solving for x using A_inv @ b.\n",
      "5.7 μs ± 0 ns per loop (mean ± std. dev. of 1 run, 1,000 loops each)\n",
      "6.23 μs ± 733 ns per loop (mean ± std. dev. of 10 runs, 1,000 loops each)\n",
      "5.16 μs ± 569 ns per loop (mean ± std. dev. of 50 runs, 1,000 loops each)\n",
      "Run times for A_inv @ b have been printed.\n"
     ]
    }
   ],
   "source": [
    "print(\"Solving for x using A_inv @ b.\")\n",
    "for run_num in runs_list:\n",
    "    get_ipython().run_line_magic(\"timeit\", f\"-n 1000 -r {run_num} x_ainv = A_inv @ b\")\n",
    "# Assign the result to x_ainv to indicate it was found via A_inv @ b.\n",
    "x_ainv = A_inv @ b\n",
    "assert np.allclose(np.dot(A, x_ainv), b), \"x_ainv is not close to b.\"\n",
    "print(\"Run times for A_inv @ b have been printed.\")"
   ]
  },
  {
   "cell_type": "code",
   "execution_count": 150,
   "id": "61c344a7",
   "metadata": {},
   "outputs": [],
   "source": [
    "assert np.allclose(x_solve, x_plu) and np.allclose(x_plu, x_ainv), \"Solution vectors should all be approximately equal.\""
   ]
  }
 ],
 "metadata": {
  "kernelspec": {
   "display_name": "hw_env",
   "language": "python",
   "name": "python3"
  },
  "language_info": {
   "codemirror_mode": {
    "name": "ipython",
    "version": 3
   },
   "file_extension": ".py",
   "mimetype": "text/x-python",
   "name": "python",
   "nbconvert_exporter": "python",
   "pygments_lexer": "ipython3",
   "version": "3.12.9"
  }
 },
 "nbformat": 4,
 "nbformat_minor": 5
}
