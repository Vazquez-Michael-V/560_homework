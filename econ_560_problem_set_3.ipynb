{
 "cells": [
  {
   "cell_type": "markdown",
   "id": "320c6c42",
   "metadata": {},
   "source": [
    "# Imports."
   ]
  },
  {
   "cell_type": "code",
   "execution_count": 17,
   "id": "91f281c5",
   "metadata": {},
   "outputs": [],
   "source": [
    "import pandas as pd\n",
    "import numpy as np\n",
    "import scipy\n",
    "\n",
    "from comp_econ import comp_econ as ce\n"
   ]
  },
  {
   "cell_type": "markdown",
   "id": "fa04afd8",
   "metadata": {},
   "source": [
    "# Problem 1"
   ]
  },
  {
   "cell_type": "markdown",
   "id": "c6f9d06f",
   "metadata": {},
   "source": [
    "## Define A and b per the Miranda and Fackler textbook."
   ]
  },
  {
   "cell_type": "code",
   "execution_count": 18,
   "id": "3d1913bd",
   "metadata": {},
   "outputs": [
    {
     "name": "stdout",
     "output_type": "stream",
     "text": [
      "Matrix A:\n",
      "[[ 54  14 -11   2]\n",
      " [ 14  50  -4  29]\n",
      " [-11  -4  55  22]\n",
      " [  2  29  22  95]]\n",
      "\n",
      "Vector b:\n",
      "[[1.]\n",
      " [1.]\n",
      " [1.]\n",
      " [1.]]\n"
     ]
    }
   ],
   "source": [
    "A = np.matrix([\n",
    "    [54, 14, -11, 2],\n",
    "    [14, 50, -4, 29],\n",
    "    [-11, -4, 55, 22],\n",
    "    [2, 29, 22, 95]\n",
    "])\n",
    "print(\"Matrix A:\")\n",
    "print(A)\n",
    "\n",
    "b = np.matrix(np.ones(shape=(A.shape[0], 1)))\n",
    "print(\"\\nVector b:\")\n",
    "print(b)\n",
    "\n"
   ]
  },
  {
   "cell_type": "markdown",
   "id": "2f3dec4c",
   "metadata": {},
   "source": [
    "## Solve for x using LU Decomposition."
   ]
  },
  {
   "cell_type": "code",
   "execution_count": 19,
   "id": "92ece60e",
   "metadata": {},
   "outputs": [
    {
     "name": "stdout",
     "output_type": "stream",
     "text": [
      "Running LU Decomposition method.\n",
      "Vector x_lu:\n",
      "[[ 0.0189]\n",
      " [ 0.0168]\n",
      " [ 0.0234]\n",
      " [-0.0004]]\n"
     ]
    }
   ],
   "source": [
    "# https://docs.scipy.org/doc/scipy/reference/generated/scipy.linalg.lu.html\n",
    "\n",
    "print(\"Running LU Decomposition method.\")\n",
    "P, L, U = scipy.linalg.lu(A)\n",
    "assert np.allclose(A, (P @ L @ U)), \"Check LU decomposition.\"\n",
    "\n",
    "# Ax = b\n",
    "# A = LU, or very close to A.\n",
    "# --> LUx = b\n",
    "# --> x = (LU)^-1 * b\n",
    "LU_inv = scipy.linalg.inv((L @ U))\n",
    "x_lu = (LU_inv @ b).round(4)\n",
    "print(\"Vector x_lu:\")\n",
    "print(x_lu)"
   ]
  },
  {
   "cell_type": "markdown",
   "id": "da67f839",
   "metadata": {},
   "source": [
    "## Solve for x using both Gauss-Jacobi and Gauss-Seidel methods."
   ]
  },
  {
   "cell_type": "code",
   "execution_count": 20,
   "id": "caec90ee",
   "metadata": {},
   "outputs": [
    {
     "name": "stdout",
     "output_type": "stream",
     "text": [
      "Running Gauss-Jacobi method.\n",
      "Gauss-Jacobi method converged in 18 iterations.\n",
      "Vector x_gj:\n",
      "[[ 0.0189]\n",
      " [ 0.0168]\n",
      " [ 0.0234]\n",
      " [-0.0004]]\n",
      "\n",
      "Running Gauss-Seidel method.\n",
      "Gauss-Seidel method converged in 9 iterations.\n",
      "Vector x_gs:\n",
      "[[ 0.0189]\n",
      " [ 0.0168]\n",
      " [ 0.0234]\n",
      " [-0.0004]]\n"
     ]
    }
   ],
   "source": [
    "print(\"Running Gauss-Jacobi method.\")\n",
    "x_gj, num_iter_gj = ce.gjacobi(A, b, np.zeros(shape=(4, 1)))\n",
    "x_gj = x_gj.round(4)\n",
    "print(\"Vector x_gj:\")\n",
    "print(x_gj)\n",
    "\n",
    "print(\"\\nRunning Gauss-Seidel method.\")\n",
    "x_gs, num_iter_gs = ce.gseidel(A, b, np.zeros(shape=(4, 1)))\n",
    "x_gs = x_gs.round(4)\n",
    "print(\"Vector x_gs:\")\n",
    "print(x_gs)"
   ]
  },
  {
   "cell_type": "markdown",
   "id": "c1c08e0e",
   "metadata": {},
   "source": [
    "## Check the answers of all 3 methods."
   ]
  },
  {
   "cell_type": "code",
   "execution_count": 21,
   "id": "e9121270",
   "metadata": {},
   "outputs": [],
   "source": [
    "assert np.allclose(x_lu, x_gj, x_gs), \"Solution vectors should all be approximately equal.\""
   ]
  },
  {
   "cell_type": "markdown",
   "id": "8399b178",
   "metadata": {},
   "source": [
    "# Problem 2."
   ]
  },
  {
   "cell_type": "code",
   "execution_count": null,
   "id": "0d28367c",
   "metadata": {},
   "outputs": [],
   "source": []
  }
 ],
 "metadata": {
  "kernelspec": {
   "display_name": "hw_env",
   "language": "python",
   "name": "python3"
  },
  "language_info": {
   "codemirror_mode": {
    "name": "ipython",
    "version": 3
   },
   "file_extension": ".py",
   "mimetype": "text/x-python",
   "name": "python",
   "nbconvert_exporter": "python",
   "pygments_lexer": "ipython3",
   "version": "3.12.9"
  }
 },
 "nbformat": 4,
 "nbformat_minor": 5
}
